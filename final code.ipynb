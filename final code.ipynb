{
 "cells": [
  {
   "cell_type": "code",
   "execution_count": 1,
   "id": "c923dd92",
   "metadata": {},
   "outputs": [
    {
     "name": "stdout",
     "output_type": "stream",
     "text": [
      "Requirement already satisfied: snowflake-connector-python in c:\\users\\sowbhagya.vodal\\documents\\python scripts\\lib\\site-packages (3.1.0)\n",
      "Requirement already satisfied: asn1crypto<2.0.0,>0.24.0 in c:\\users\\sowbhagya.vodal\\documents\\python scripts\\lib\\site-packages (from snowflake-connector-python) (1.5.1)\n",
      "Requirement already satisfied: cffi<2.0.0,>=1.9 in c:\\users\\sowbhagya.vodal\\documents\\python scripts\\lib\\site-packages (from snowflake-connector-python) (1.15.1)\n",
      "Requirement already satisfied: cryptography<42.0.0,>=3.1.0 in c:\\users\\sowbhagya.vodal\\documents\\python scripts\\lib\\site-packages (from snowflake-connector-python) (41.0.2)\n",
      "Requirement already satisfied: oscrypto<2.0.0 in c:\\users\\sowbhagya.vodal\\documents\\python scripts\\lib\\site-packages (from snowflake-connector-python) (1.3.0)\n",
      "Requirement already satisfied: pyOpenSSL<24.0.0,>=16.2.0 in c:\\users\\sowbhagya.vodal\\documents\\python scripts\\lib\\site-packages (from snowflake-connector-python) (23.2.0)\n",
      "Requirement already satisfied: pycryptodomex!=3.5.0,<4.0.0,>=3.2 in c:\\users\\sowbhagya.vodal\\documents\\python scripts\\lib\\site-packages (from snowflake-connector-python) (3.18.0)\n",
      "Requirement already satisfied: pyjwt<3.0.0 in c:\\users\\sowbhagya.vodal\\documents\\python scripts\\lib\\site-packages (from snowflake-connector-python) (2.4.0)\n",
      "Requirement already satisfied: pytz in c:\\users\\sowbhagya.vodal\\documents\\python scripts\\lib\\site-packages (from snowflake-connector-python) (2022.7)\n",
      "Requirement already satisfied: requests<3.0.0 in c:\\users\\sowbhagya.vodal\\documents\\python scripts\\lib\\site-packages (from snowflake-connector-python) (2.31.0)\n",
      "Requirement already satisfied: packaging in c:\\users\\sowbhagya.vodal\\documents\\python scripts\\lib\\site-packages (from snowflake-connector-python) (23.0)\n",
      "Requirement already satisfied: charset-normalizer<4,>=2 in c:\\users\\sowbhagya.vodal\\documents\\python scripts\\lib\\site-packages (from snowflake-connector-python) (2.0.4)\n",
      "Requirement already satisfied: idna<4,>=2.5 in c:\\users\\sowbhagya.vodal\\documents\\python scripts\\lib\\site-packages (from snowflake-connector-python) (3.4)\n",
      "Requirement already satisfied: urllib3<1.27,>=1.21.1 in c:\\users\\sowbhagya.vodal\\documents\\python scripts\\lib\\site-packages (from snowflake-connector-python) (1.26.16)\n",
      "Requirement already satisfied: certifi>=2017.4.17 in c:\\users\\sowbhagya.vodal\\documents\\python scripts\\lib\\site-packages (from snowflake-connector-python) (2023.7.22)\n",
      "Requirement already satisfied: typing-extensions<5,>=4.3 in c:\\users\\sowbhagya.vodal\\documents\\python scripts\\lib\\site-packages (from snowflake-connector-python) (4.7.1)\n",
      "Requirement already satisfied: filelock<4,>=3.5 in c:\\users\\sowbhagya.vodal\\documents\\python scripts\\lib\\site-packages (from snowflake-connector-python) (3.9.0)\n",
      "Requirement already satisfied: sortedcontainers>=2.4.0 in c:\\users\\sowbhagya.vodal\\documents\\python scripts\\lib\\site-packages (from snowflake-connector-python) (2.4.0)\n",
      "Requirement already satisfied: platformdirs<3.9.0,>=2.6.0 in c:\\users\\sowbhagya.vodal\\documents\\python scripts\\lib\\site-packages (from snowflake-connector-python) (3.8.1)\n",
      "Requirement already satisfied: tomlkit in c:\\users\\sowbhagya.vodal\\documents\\python scripts\\lib\\site-packages (from snowflake-connector-python) (0.11.1)\n",
      "Requirement already satisfied: pycparser in c:\\users\\sowbhagya.vodal\\documents\\python scripts\\lib\\site-packages (from cffi<2.0.0,>=1.9->snowflake-connector-python) (2.21)\n",
      "Note: you may need to restart the kernel to use updated packages.\n"
     ]
    }
   ],
   "source": [
    "pip install snowflake-connector-python\n"
   ]
  },
  {
   "cell_type": "code",
   "execution_count": 2,
   "id": "fb279368",
   "metadata": {},
   "outputs": [],
   "source": [
    "import pandas as pd\n",
    "import numpy as np\n",
    "import matplotlib.pyplot as plt"
   ]
  },
  {
   "cell_type": "code",
   "execution_count": 6,
   "id": "0d4d4216",
   "metadata": {},
   "outputs": [
    {
     "name": "stdout",
     "output_type": "stream",
     "text": [
      "Enter password:········\n"
     ]
    }
   ],
   "source": [
    "import getpass\n",
    "pwd_approved=getpass.getpass(\"Enter password:\")"
   ]
  },
  {
   "cell_type": "code",
   "execution_count": 4,
   "id": "6cda69f8",
   "metadata": {},
   "outputs": [
    {
     "name": "stdout",
     "output_type": "stream",
     "text": [
      "Requirement already satisfied: pyarrow in c:\\users\\sowbhagya.vodal\\documents\\python scripts\\lib\\site-packages (11.0.0)Note: you may need to restart the kernel to use updated packages.\n",
      "\n",
      "Requirement already satisfied: numpy>=1.16.6 in c:\\users\\sowbhagya.vodal\\documents\\python scripts\\lib\\site-packages (from pyarrow) (1.24.3)\n"
     ]
    }
   ],
   "source": [
    "pip install pyarrow"
   ]
  },
  {
   "cell_type": "code",
   "execution_count": 7,
   "id": "10ecc779",
   "metadata": {},
   "outputs": [],
   "source": [
    "import snowflake.connector\n",
    "conn_approved = snowflake.connector.connect(user='sowbhagya22',password=str(pwd_approved),account='mx53414.ap-south-1.aws')"
   ]
  },
  {
   "cell_type": "code",
   "execution_count": 8,
   "id": "7df76406",
   "metadata": {},
   "outputs": [],
   "source": [
    "sql_approved='select * from LOANS.S_LOANS.APPROVED_LOAN'"
   ]
  },
  {
   "cell_type": "code",
   "execution_count": 9,
   "id": "f381f331",
   "metadata": {
    "scrolled": true
   },
   "outputs": [
    {
     "ename": "KeyboardInterrupt",
     "evalue": "",
     "output_type": "error",
     "traceback": [
      "\u001b[1;31m---------------------------------------------------------------------------\u001b[0m",
      "\u001b[1;31mKeyboardInterrupt\u001b[0m                         Traceback (most recent call last)",
      "Cell \u001b[1;32mIn[9], line 1\u001b[0m\n\u001b[1;32m----> 1\u001b[0m res\u001b[38;5;241m=\u001b[39mconn\u001b[38;5;241m.\u001b[39mcursor()\u001b[38;5;241m.\u001b[39mexecute(sql)\u001b[38;5;241m.\u001b[39mfetchall()\n",
      "File \u001b[1;32m~\\Documents\\Python Scripts\\Lib\\site-packages\\snowflake\\connector\\cursor.py:1300\u001b[0m, in \u001b[0;36mSnowflakeCursor.fetchall\u001b[1;34m(self)\u001b[0m\n\u001b[0;32m   1298\u001b[0m ret \u001b[38;5;241m=\u001b[39m []\n\u001b[0;32m   1299\u001b[0m \u001b[38;5;28;01mwhile\u001b[39;00m \u001b[38;5;28;01mTrue\u001b[39;00m:\n\u001b[1;32m-> 1300\u001b[0m     row \u001b[38;5;241m=\u001b[39m \u001b[38;5;28mself\u001b[39m\u001b[38;5;241m.\u001b[39mfetchone()\n\u001b[0;32m   1301\u001b[0m     \u001b[38;5;28;01mif\u001b[39;00m row \u001b[38;5;129;01mis\u001b[39;00m \u001b[38;5;28;01mNone\u001b[39;00m:\n\u001b[0;32m   1302\u001b[0m         \u001b[38;5;28;01mbreak\u001b[39;00m\n",
      "File \u001b[1;32m~\\Documents\\Python Scripts\\Lib\\site-packages\\snowflake\\connector\\cursor.py:1254\u001b[0m, in \u001b[0;36mSnowflakeCursor.fetchone\u001b[1;34m(self)\u001b[0m\n\u001b[0;32m   1251\u001b[0m     \u001b[38;5;28mself\u001b[39m\u001b[38;5;241m.\u001b[39m_result_state \u001b[38;5;241m=\u001b[39m ResultState\u001b[38;5;241m.\u001b[39mVALID\n\u001b[0;32m   1253\u001b[0m \u001b[38;5;28;01mtry\u001b[39;00m:\n\u001b[1;32m-> 1254\u001b[0m     _next \u001b[38;5;241m=\u001b[39m \u001b[38;5;28mnext\u001b[39m(\u001b[38;5;28mself\u001b[39m\u001b[38;5;241m.\u001b[39m_result, \u001b[38;5;28;01mNone\u001b[39;00m)\n\u001b[0;32m   1255\u001b[0m     \u001b[38;5;28;01mif\u001b[39;00m \u001b[38;5;28misinstance\u001b[39m(_next, \u001b[38;5;167;01mException\u001b[39;00m):\n\u001b[0;32m   1256\u001b[0m         Error\u001b[38;5;241m.\u001b[39merrorhandler_wrapper_from_ready_exception(\n\u001b[0;32m   1257\u001b[0m             \u001b[38;5;28mself\u001b[39m\u001b[38;5;241m.\u001b[39m_connection,\n\u001b[0;32m   1258\u001b[0m             \u001b[38;5;28mself\u001b[39m,\n\u001b[0;32m   1259\u001b[0m             _next,\n\u001b[0;32m   1260\u001b[0m         )\n",
      "File \u001b[1;32m~\\Documents\\Python Scripts\\Lib\\site-packages\\snowflake\\connector\\result_set.py:86\u001b[0m, in \u001b[0;36mresult_set_iterator\u001b[1;34m(first_batch_iter, unconsumed_batches, unfetched_batches, final, prefetch_thread_num, **kw)\u001b[0m\n\u001b[0;32m     83\u001b[0m future \u001b[38;5;241m=\u001b[39m unconsumed_batches\u001b[38;5;241m.\u001b[39mpopleft()\n\u001b[0;32m     85\u001b[0m \u001b[38;5;66;03m# this will raise an exception if one has occurred\u001b[39;00m\n\u001b[1;32m---> 86\u001b[0m batch_iterator \u001b[38;5;241m=\u001b[39m future\u001b[38;5;241m.\u001b[39mresult()\n\u001b[0;32m     88\u001b[0m logger\u001b[38;5;241m.\u001b[39mdebug(\u001b[38;5;124mf\u001b[39m\u001b[38;5;124m\"\u001b[39m\u001b[38;5;124muser began consuming result batch \u001b[39m\u001b[38;5;132;01m{\u001b[39;00mi\u001b[38;5;132;01m}\u001b[39;00m\u001b[38;5;124m\"\u001b[39m)\n\u001b[0;32m     89\u001b[0m \u001b[38;5;28;01myield from\u001b[39;00m batch_iterator\n",
      "File \u001b[1;32m~\\Documents\\Python Scripts\\Lib\\concurrent\\futures\\_base.py:451\u001b[0m, in \u001b[0;36mFuture.result\u001b[1;34m(self, timeout)\u001b[0m\n\u001b[0;32m    448\u001b[0m \u001b[38;5;28;01melif\u001b[39;00m \u001b[38;5;28mself\u001b[39m\u001b[38;5;241m.\u001b[39m_state \u001b[38;5;241m==\u001b[39m FINISHED:\n\u001b[0;32m    449\u001b[0m     \u001b[38;5;28;01mreturn\u001b[39;00m \u001b[38;5;28mself\u001b[39m\u001b[38;5;241m.\u001b[39m__get_result()\n\u001b[1;32m--> 451\u001b[0m \u001b[38;5;28mself\u001b[39m\u001b[38;5;241m.\u001b[39m_condition\u001b[38;5;241m.\u001b[39mwait(timeout)\n\u001b[0;32m    453\u001b[0m \u001b[38;5;28;01mif\u001b[39;00m \u001b[38;5;28mself\u001b[39m\u001b[38;5;241m.\u001b[39m_state \u001b[38;5;129;01min\u001b[39;00m [CANCELLED, CANCELLED_AND_NOTIFIED]:\n\u001b[0;32m    454\u001b[0m     \u001b[38;5;28;01mraise\u001b[39;00m CancelledError()\n",
      "File \u001b[1;32m~\\Documents\\Python Scripts\\Lib\\threading.py:320\u001b[0m, in \u001b[0;36mCondition.wait\u001b[1;34m(self, timeout)\u001b[0m\n\u001b[0;32m    318\u001b[0m \u001b[38;5;28;01mtry\u001b[39;00m:    \u001b[38;5;66;03m# restore state no matter what (e.g., KeyboardInterrupt)\u001b[39;00m\n\u001b[0;32m    319\u001b[0m     \u001b[38;5;28;01mif\u001b[39;00m timeout \u001b[38;5;129;01mis\u001b[39;00m \u001b[38;5;28;01mNone\u001b[39;00m:\n\u001b[1;32m--> 320\u001b[0m         waiter\u001b[38;5;241m.\u001b[39macquire()\n\u001b[0;32m    321\u001b[0m         gotit \u001b[38;5;241m=\u001b[39m \u001b[38;5;28;01mTrue\u001b[39;00m\n\u001b[0;32m    322\u001b[0m     \u001b[38;5;28;01melse\u001b[39;00m:\n",
      "\u001b[1;31mKeyboardInterrupt\u001b[0m: "
     ]
    }
   ],
   "source": [
    "res_approved=conn.cursor().execute(sql_approved).fetchall()"
   ]
  },
  {
   "cell_type": "code",
   "execution_count": 9,
   "id": "30774af3",
   "metadata": {},
   "outputs": [
    {
     "name": "stderr",
     "output_type": "stream",
     "text": [
      "C:\\Users\\sowbhagya.vodal\\AppData\\Local\\Temp\\ipykernel_3712\\4222303541.py:1: UserWarning: pandas only supports SQLAlchemy connectable (engine/connection) or database string URI or sqlite3 DBAPI2 connection. Other DBAPI2 objects are not tested. Please consider using SQLAlchemy.\n",
      "  df=pd.read_sql(sql_approved,conn_approved)\n"
     ]
    },
    {
     "name": "stdout",
     "output_type": "stream",
     "text": [
      "<class 'pandas.core.frame.DataFrame'>\n",
      "RangeIndex: 551452 entries, 0 to 551451\n",
      "Columns: 148 entries, id to Label\n",
      "dtypes: float64(102), int64(1), object(45)\n",
      "memory usage: 622.7+ MB\n"
     ]
    }
   ],
   "source": [
    "df=pd.read_sql(sql_approved,conn_approved)\n",
    "df.info()"
   ]
  },
  {
   "cell_type": "code",
   "execution_count": 133,
   "id": "af61ed72",
   "metadata": {},
   "outputs": [
    {
     "data": {
      "text/plain": [
       "id                        True\n",
       "member_id                 True\n",
       "loan_amnt                 True\n",
       "funded_amnt               True\n",
       "funded_amnt_inv           True\n",
       "                         ...  \n",
       "settlement_percentage     True\n",
       "settlement_term           True\n",
       "Quarter                  False\n",
       "Year                     False\n",
       "Label                    False\n",
       "Length: 148, dtype: bool"
      ]
     },
     "execution_count": 133,
     "metadata": {},
     "output_type": "execute_result"
    }
   ],
   "source": [
    "pd.isnull(df).any()"
   ]
  },
  {
   "cell_type": "code",
   "execution_count": 134,
   "id": "ff4a5198",
   "metadata": {},
   "outputs": [],
   "source": [
    "df['int_rate'] = df['int_rate'].str.rstrip('%').astype(float)"
   ]
  },
  {
   "cell_type": "code",
   "execution_count": 135,
   "id": "55be6884",
   "metadata": {},
   "outputs": [
    {
     "name": "stdout",
     "output_type": "stream",
     "text": [
      "                                                      id member_id  loan_amnt  \\\n",
      "0                                                   None      None    20000.0   \n",
      "1                                                   None      None     7000.0   \n",
      "2                                                   None      None     6700.0   \n",
      "3                                                   None      None    18000.0   \n",
      "4                                                   None      None     1000.0   \n",
      "...                                                  ...       ...        ...   \n",
      "551447                                              None      None     4375.0   \n",
      "551448                                              None      None    12000.0   \n",
      "551449                                              None      None    14000.0   \n",
      "551450  Total amount funded in policy code 1: 1741781700      None        NaN   \n",
      "551451   Total amount funded in policy code 2: 539397275      None        NaN   \n",
      "\n",
      "        funded_amnt  funded_amnt_inv       term  int_rate  installment grade  \\\n",
      "0           20000.0          20000.0  36 months     10.42       649.30     B   \n",
      "1            7000.0           7000.0  36 months      6.08       213.21     A   \n",
      "2            6700.0           6700.0  36 months     10.91       219.07     B   \n",
      "3           18000.0          18000.0  36 months     12.62       603.21     C   \n",
      "4            1000.0           1000.0  36 months     22.91        38.67     E   \n",
      "...             ...              ...        ...       ...          ...   ...   \n",
      "551447       4375.0           4375.0  36 months     14.08       149.70     C   \n",
      "551448      12000.0          11975.0  36 months     10.42       389.58     B   \n",
      "551449      14000.0          13975.0  36 months     13.59       475.71     C   \n",
      "551450          NaN              NaN       None       NaN          NaN  None   \n",
      "551451          NaN              NaN       None       NaN          NaN  None   \n",
      "\n",
      "       sub_grade  ... debt_settlement_flag debt_settlement_flag_date  \\\n",
      "0             B3  ...                False                      None   \n",
      "1             A2  ...                False                      None   \n",
      "2             B4  ...                False                      None   \n",
      "3             C1  ...                False                      None   \n",
      "4             E1  ...                False                      None   \n",
      "...          ...  ...                  ...                       ...   \n",
      "551447        C3  ...                False                      None   \n",
      "551448        B3  ...                False                      None   \n",
      "551449        C2  ...                False                      None   \n",
      "551450      None  ...                 None                      None   \n",
      "551451      None  ...                 None                      None   \n",
      "\n",
      "       settlement_status settlement_date settlement_amount  \\\n",
      "0                   None            None               NaN   \n",
      "1                   None            None               NaN   \n",
      "2                   None            None               NaN   \n",
      "3                   None            None               NaN   \n",
      "4                   None            None               NaN   \n",
      "...                  ...             ...               ...   \n",
      "551447              None            None               NaN   \n",
      "551448              None            None               NaN   \n",
      "551449              None            None               NaN   \n",
      "551450              None            None               NaN   \n",
      "551451              None            None               NaN   \n",
      "\n",
      "       settlement_percentage settlement_term Quarter  Year     Label  \n",
      "0                        NaN             NaN      Q4  2017  Approved  \n",
      "1                        NaN             NaN      Q4  2017  Approved  \n",
      "2                        NaN             NaN      Q4  2017  Approved  \n",
      "3                        NaN             NaN      Q4  2017  Approved  \n",
      "4                        NaN             NaN      Q4  2017  Approved  \n",
      "...                      ...             ...     ...   ...       ...  \n",
      "551447                   NaN             NaN      Q1  2018  Approved  \n",
      "551448                   NaN             NaN      Q1  2018  Approved  \n",
      "551449                   NaN             NaN      Q1  2018  Approved  \n",
      "551450                   NaN             NaN      Q1  2018  Approved  \n",
      "551451                   NaN             NaN      Q1  2018  Approved  \n",
      "\n",
      "[551452 rows x 148 columns]\n"
     ]
    }
   ],
   "source": [
    "print(df)"
   ]
  },
  {
   "cell_type": "code",
   "execution_count": 136,
   "id": "d41ed468",
   "metadata": {},
   "outputs": [],
   "source": [
    "def risk_score(mths_since_last_record):\n",
    "    if pd.isnull(mths_since_last_record):  # Check for missing values\n",
    "        return 80\n",
    "    elif mths_since_last_record >= 24:\n",
    "        return 60\n",
    "    elif mths_since_last_record >= 12:\n",
    "        return 30\n",
    "    elif mths_since_last_record >= 6:\n",
    "        return 20\n",
    "    else:\n",
    "        return 10"
   ]
  },
  {
   "cell_type": "code",
   "execution_count": 137,
   "id": "c9397be8",
   "metadata": {},
   "outputs": [],
   "source": [
    "df['Risk_Score'] = df['mths_since_last_record'].apply(risk_score)\n",
    "\n",
    "\n",
    "\n",
    "\n",
    "\n"
   ]
  },
  {
   "cell_type": "code",
   "execution_count": 138,
   "id": "dc60ba6e",
   "metadata": {},
   "outputs": [
    {
     "name": "stdout",
     "output_type": "stream",
     "text": [
      "                                                      id member_id  loan_amnt  \\\n",
      "0                                                   None      None    20000.0   \n",
      "1                                                   None      None     7000.0   \n",
      "2                                                   None      None     6700.0   \n",
      "3                                                   None      None    18000.0   \n",
      "4                                                   None      None     1000.0   \n",
      "...                                                  ...       ...        ...   \n",
      "551447                                              None      None     4375.0   \n",
      "551448                                              None      None    12000.0   \n",
      "551449                                              None      None    14000.0   \n",
      "551450  Total amount funded in policy code 1: 1741781700      None        NaN   \n",
      "551451   Total amount funded in policy code 2: 539397275      None        NaN   \n",
      "\n",
      "        funded_amnt  funded_amnt_inv       term  int_rate  installment grade  \\\n",
      "0           20000.0          20000.0  36 months     10.42       649.30     B   \n",
      "1            7000.0           7000.0  36 months      6.08       213.21     A   \n",
      "2            6700.0           6700.0  36 months     10.91       219.07     B   \n",
      "3           18000.0          18000.0  36 months     12.62       603.21     C   \n",
      "4            1000.0           1000.0  36 months     22.91        38.67     E   \n",
      "...             ...              ...        ...       ...          ...   ...   \n",
      "551447       4375.0           4375.0  36 months     14.08       149.70     C   \n",
      "551448      12000.0          11975.0  36 months     10.42       389.58     B   \n",
      "551449      14000.0          13975.0  36 months     13.59       475.71     C   \n",
      "551450          NaN              NaN       None       NaN          NaN  None   \n",
      "551451          NaN              NaN       None       NaN          NaN  None   \n",
      "\n",
      "       sub_grade  ... debt_settlement_flag_date settlement_status  \\\n",
      "0             B3  ...                      None              None   \n",
      "1             A2  ...                      None              None   \n",
      "2             B4  ...                      None              None   \n",
      "3             C1  ...                      None              None   \n",
      "4             E1  ...                      None              None   \n",
      "...          ...  ...                       ...               ...   \n",
      "551447        C3  ...                      None              None   \n",
      "551448        B3  ...                      None              None   \n",
      "551449        C2  ...                      None              None   \n",
      "551450      None  ...                      None              None   \n",
      "551451      None  ...                      None              None   \n",
      "\n",
      "       settlement_date settlement_amount settlement_percentage  \\\n",
      "0                 None               NaN                   NaN   \n",
      "1                 None               NaN                   NaN   \n",
      "2                 None               NaN                   NaN   \n",
      "3                 None               NaN                   NaN   \n",
      "4                 None               NaN                   NaN   \n",
      "...                ...               ...                   ...   \n",
      "551447            None               NaN                   NaN   \n",
      "551448            None               NaN                   NaN   \n",
      "551449            None               NaN                   NaN   \n",
      "551450            None               NaN                   NaN   \n",
      "551451            None               NaN                   NaN   \n",
      "\n",
      "       settlement_term Quarter  Year     Label Risk_Score  \n",
      "0                  NaN      Q4  2017  Approved         80  \n",
      "1                  NaN      Q4  2017  Approved         80  \n",
      "2                  NaN      Q4  2017  Approved         80  \n",
      "3                  NaN      Q4  2017  Approved         80  \n",
      "4                  NaN      Q4  2017  Approved         80  \n",
      "...                ...     ...   ...       ...        ...  \n",
      "551447             NaN      Q1  2018  Approved         80  \n",
      "551448             NaN      Q1  2018  Approved         80  \n",
      "551449             NaN      Q1  2018  Approved         80  \n",
      "551450             NaN      Q1  2018  Approved         80  \n",
      "551451             NaN      Q1  2018  Approved         80  \n",
      "\n",
      "[551452 rows x 149 columns]\n"
     ]
    }
   ],
   "source": [
    "print(df)"
   ]
  },
  {
   "cell_type": "code",
   "execution_count": 139,
   "id": "c4cac58b",
   "metadata": {},
   "outputs": [
    {
     "name": "stdout",
     "output_type": "stream",
     "text": [
      "0         Jan-2010\n",
      "1         Dec-2010\n",
      "2         Mar-1993\n",
      "3         Mar-1997\n",
      "4         Oct-2007\n",
      "            ...   \n",
      "551447    Feb-1994\n",
      "551448    May-1998\n",
      "551449    Jul-2007\n",
      "551450        None\n",
      "551451        None\n",
      "Name: earliest_cr_line, Length: 551452, dtype: object\n"
     ]
    }
   ],
   "source": [
    "print(df['earliest_cr_line'])"
   ]
  },
  {
   "cell_type": "code",
   "execution_count": 140,
   "id": "5f38dc07",
   "metadata": {},
   "outputs": [],
   "source": [
    "from datetime import datetime\n"
   ]
  },
  {
   "cell_type": "code",
   "execution_count": 141,
   "id": "7eaa7640",
   "metadata": {},
   "outputs": [],
   "source": [
    "import math"
   ]
  },
  {
   "cell_type": "code",
   "execution_count": 142,
   "id": "cece028d",
   "metadata": {},
   "outputs": [],
   "source": [
    "unique_values = df['earliest_cr_line'].unique()"
   ]
  },
  {
   "cell_type": "code",
   "execution_count": 143,
   "id": "6a9dc07a",
   "metadata": {},
   "outputs": [
    {
     "name": "stdout",
     "output_type": "stream",
     "text": [
      "['Jan-2010' 'Dec-2010' 'Mar-1993' 'Mar-1997' 'Oct-2007' 'Nov-1996'\n",
      " 'Jan-2006' 'Mar-2006' 'Oct-2001' 'Aug-2005' 'Jan-1984' 'Jan-1995'\n",
      " 'Apr-2006' 'Sep-2005' 'May-2013' 'May-2006' 'Mar-1995' 'Feb-1999'\n",
      " 'Jul-2003' 'Sep-2013' 'Aug-1994' 'Aug-2002' 'Aug-2001' 'Aug-2003'\n",
      " 'Sep-2006' 'Apr-2010' 'Dec-1994' 'Apr-2002' 'Jan-2011' 'Apr-1999'\n",
      " 'Sep-2008' 'Jul-1998' 'Jan-2005' 'Jul-2008' 'May-1997' 'Jul-1996'\n",
      " 'Aug-1977' 'Oct-1997' 'Sep-1999' 'Aug-1978' 'Jul-1994' 'Jun-1993'\n",
      " 'May-1999' 'Nov-2012' 'Mar-2005' 'Sep-2000' 'Dec-2013' 'Aug-2006'\n",
      " 'Apr-2000' 'Mar-1984' 'Aug-2004' 'Nov-1999' 'Apr-2008' 'May-2000'\n",
      " 'Sep-2001' 'Mar-2007' 'Feb-2004' 'Jun-1999' 'Aug-1998' 'Nov-2004'\n",
      " 'Feb-2003' 'Jan-1999' 'Jun-1998' 'Aug-2000' 'Sep-2002' 'Feb-1998'\n",
      " 'Jul-1983' 'Oct-2008' 'Jun-2004' 'Feb-1989' 'May-1991' 'Dec-2005'\n",
      " 'Jan-2004' 'Jul-2014' 'Aug-2011' 'Apr-2011' 'Aug-2012' 'Dec-2003'\n",
      " 'Feb-1996' 'Jul-2013' 'Feb-1997' 'Oct-1983' 'Jul-1988' 'Apr-2004'\n",
      " 'Apr-1991' 'Oct-2006' 'Feb-1988' 'Nov-2002' 'Jun-1996' 'Apr-2003'\n",
      " 'Mar-1998' 'Nov-2005' 'Aug-1999' 'Nov-1995' 'Jan-2008' 'Aug-2010'\n",
      " 'Oct-1998' 'Jan-1992' 'Mar-1999' 'Jan-2009' 'Feb-2006' 'Sep-2003'\n",
      " 'Apr-1996' 'Mar-2003' 'Oct-1996' 'Oct-2002' 'Nov-2001' 'Sep-1996'\n",
      " 'Nov-2007' 'Dec-2009' 'Jun-2001' 'Oct-2009' 'Aug-1995' 'Dec-2004'\n",
      " 'Jan-1996' 'Mar-2012' 'Sep-2010' 'Feb-2007' 'May-2007' 'Jan-2007'\n",
      " 'Apr-2005' 'Jun-1985' 'Aug-1996' 'Sep-1998' 'Jul-2005' 'May-1995'\n",
      " 'Feb-2009' 'Feb-2011' 'Sep-1993' 'Jan-2000' 'Nov-1989' 'Dec-2001'\n",
      " 'Apr-2012' 'Jan-1981' 'Aug-1997' 'Mar-2001' 'Jul-1997' 'Mar-1980'\n",
      " 'Mar-2004' 'Apr-2014' 'Oct-2011' 'Sep-1991' 'Mar-2002' 'Mar-2011'\n",
      " 'Oct-1994' 'Oct-2010' 'Dec-2000' 'Feb-1995' 'Oct-2003' 'May-1989'\n",
      " 'Feb-2002' 'Jul-2002' 'Jul-1995' 'Feb-2005' 'Jun-2005' 'Mar-1991'\n",
      " 'Jul-1986' 'May-1994' 'Oct-2005' 'May-2005' 'May-2010' 'Jul-2004'\n",
      " 'Dec-2006' 'Dec-1989' 'Nov-1998' 'Feb-2010' 'Nov-2000' 'Nov-2014'\n",
      " 'May-2002' 'Aug-1990' 'Aug-2009' 'Jun-1979' 'Feb-1994' 'Apr-1997'\n",
      " 'Jun-1995' 'Jul-2010' 'Feb-2014' 'Mar-1973' 'Feb-1976' 'Jan-2003'\n",
      " 'May-2003' 'Aug-2014' 'Dec-2008' 'Jun-2003' 'May-2012' 'Oct-2013'\n",
      " 'Nov-1997' 'Jul-1993' 'Oct-1999' 'Nov-2011' 'Apr-1990' 'Sep-2007'\n",
      " 'Jun-2011' 'Oct-2004' 'Aug-2008' 'Sep-1988' 'Feb-1979' 'Feb-2008'\n",
      " 'Jan-1993' 'Dec-1976' 'Sep-2014' 'Aug-2007' 'May-2011' 'Mar-2000'\n",
      " 'Jun-1990' 'Dec-1999' 'Aug-1988' 'Sep-2011' 'Sep-1985' 'Oct-2000'\n",
      " 'Nov-2008' 'Oct-1984' 'Jan-1991' 'Mar-2008' 'Nov-1994' 'Jul-2006'\n",
      " 'Apr-1988' 'Jun-2000' 'Jul-2007' 'Oct-1993' 'Jul-1991' 'Nov-2006'\n",
      " 'Sep-1997' 'Feb-1978' 'Jul-1984' 'Sep-2004' 'Sep-1990' 'Jul-2009'\n",
      " 'Sep-1995' 'Nov-1987' 'May-1987' 'Apr-2007' 'May-1990' 'Dec-1993'\n",
      " 'Feb-2001' 'Jun-1992' 'Oct-1992' 'Oct-1988' 'Jan-2014' 'Jul-2000'\n",
      " 'Apr-2009' 'Feb-2000' 'Apr-1992' 'Apr-1983' 'Jun-2012' 'Jun-2007'\n",
      " 'Oct-1972' 'Aug-1985' 'Dec-1974' 'Sep-2009' 'Jul-2001' 'May-2001'\n",
      " 'Nov-2013' 'Dec-1998' 'Mar-2014' 'Jan-2002' 'Dec-1997' 'Nov-1992'\n",
      " 'Aug-2013' 'Feb-2013' 'Jan-2001' 'May-2014' 'May-2004' 'Jun-1997'\n",
      " 'Nov-2010' 'Dec-1981' 'Jul-1990' 'Mar-1990' 'Nov-1988' 'Oct-1995'\n",
      " 'Jun-2002' 'Jan-1997' 'Sep-1984' 'Dec-1990' 'Nov-1984' 'Dec-1992'\n",
      " 'Sep-1982' 'Nov-1993' 'Apr-1972' 'Dec-2002' 'Mar-1978' 'Oct-2012'\n",
      " 'May-1992' 'Jul-1999' 'Mar-1989' 'Jul-1992' 'Oct-1991' 'Mar-1986'\n",
      " 'Mar-1967' 'Sep-1976' 'Jun-2010' 'Dec-1995' 'Mar-1970' 'Feb-1992'\n",
      " 'Dec-2012' 'Oct-1982' 'Jan-1987' 'Nov-1972' 'May-2008' 'Mar-1987'\n",
      " 'Apr-2001' 'Oct-1990' 'Feb-1980' 'Sep-1987' 'Nov-1976' 'Feb-1984'\n",
      " 'Jun-2008' 'Jun-2013' 'Aug-1982' 'Jun-2009' 'Jan-1983' 'Dec-1986'\n",
      " 'Sep-1992' 'Apr-1994' 'Mar-1988' 'May-1988' 'Jun-2006' 'Apr-1971'\n",
      " 'Jul-2012' 'Jan-1960' 'Jan-2012' 'Mar-1992' 'Jul-1982' 'Jun-1991'\n",
      " 'Nov-1978' 'May-1996' 'Oct-2014' 'Dec-1985' 'Nov-1985' 'Sep-2012'\n",
      " 'Apr-1998' 'Nov-2003' 'Mar-2010' 'May-1985' 'Nov-1991' 'May-1993'\n",
      " 'Mar-2009' 'Jul-1987' 'Mar-1996' 'May-1998' 'Dec-1972' 'Aug-1969'\n",
      " 'Dec-1991' 'Jan-1982' 'Jun-1988' 'Feb-1985' 'Sep-1994' 'Jun-1994'\n",
      " 'Apr-1987' 'Aug-1989' 'Nov-2009' 'Nov-1986' 'Dec-2007' 'Apr-1984'\n",
      " 'Jun-1980' 'Jun-1984' 'Jan-1975' 'Nov-1980' 'Dec-2011' 'Feb-2012'\n",
      " 'Jun-1976' 'Mar-1985' 'Jan-1977' 'Aug-1987' 'Oct-1986' 'Mar-1994'\n",
      " 'Dec-1987' 'Oct-1979' 'Feb-1973' 'Jun-1983' 'Feb-1990' 'May-1986'\n",
      " 'Dec-1978' 'Jan-1998' 'Aug-1984' 'Apr-1989' 'Jan-1978' 'Feb-1986'\n",
      " 'Jan-1986' 'Feb-1991' 'Jan-1976' 'Oct-1989' 'Jun-2014' 'Nov-1982'\n",
      " 'Nov-1990' 'May-1963' 'Dec-1982' 'Apr-1995' 'Oct-1975' 'May-1976'\n",
      " 'Apr-1985' 'Aug-1970' 'Feb-1993' 'Sep-1978' 'Apr-1982' 'May-1984'\n",
      " 'Apr-2013' 'Jan-1989' 'Feb-1970' 'Jun-1989' 'Aug-1986' 'Jan-1994'\n",
      " 'Jul-2011' 'Dec-1984' 'Apr-1979' 'Apr-1993' 'Dec-1977' 'Dec-1996'\n",
      " 'Oct-1977' 'Jan-2013' 'Oct-1981' 'Feb-1982' 'May-1983' 'May-2009'\n",
      " 'Feb-1977' 'Aug-1993' 'Jun-1987' 'Mar-1977' 'Jul-1981' 'Aug-1991'\n",
      " 'Sep-1989' 'Aug-1981' 'Nov-1979' 'Sep-1973' 'May-1965' 'Nov-1975'\n",
      " 'Oct-1987' 'Apr-1986' 'Jan-1985' 'Oct-1974' 'Jun-1978' 'Sep-1981'\n",
      " 'Jan-1979' 'Mar-2013' 'Oct-1985' 'Apr-1976' 'Sep-1983' 'Oct-1978'\n",
      " 'May-1981' 'Jul-1970' 'Jun-1973' 'Dec-1983' 'Jul-1976' 'Dec-1988'\n",
      " 'Apr-1981' 'Feb-1987' 'Aug-1979' 'Sep-1980' 'Nov-1983' 'Sep-1979'\n",
      " 'Jul-1964' 'Jan-1988' 'Jul-1989' 'Jun-1981' 'Mar-1981' 'Nov-1981'\n",
      " 'Jun-1986' 'Jan-1959' 'Oct-1965' 'May-1973' 'Jun-1972' 'Aug-1976'\n",
      " 'Nov-1974' 'Sep-1977' 'Jun-1982' 'Sep-1986' 'Oct-1973' 'Aug-1992'\n",
      " 'Jan-1971' 'May-1978' 'Mar-1983' 'Dec-1968' 'May-1977' 'Oct-1976'\n",
      " 'Jan-1980' 'Apr-1975' 'Jan-1990' 'Jan-1973' 'May-1982' 'Dec-1979'\n",
      " 'Jul-1973' 'Aug-1974' 'Mar-1982' 'Jul-1985' 'Aug-1983' 'Apr-1970'\n",
      " 'Jan-1972' 'May-1975' 'Apr-1980' 'Dec-1975' 'Jan-1951' 'Mar-1971'\n",
      " 'Apr-1977' 'Oct-1980' 'Dec-1980' 'Feb-1969' 'Nov-1967' 'Feb-1981'\n",
      " 'Apr-1978' 'Apr-1969' 'Jun-1970' 'Sep-1970' 'Feb-1983' 'Apr-1962'\n",
      " 'Aug-1975' 'Oct-1971' 'Jul-1974' 'May-1972' 'Jan-1964' 'Mar-1974'\n",
      " 'Jul-1972' 'Jul-1975' 'Aug-1973' 'Jun-1965' 'Dec-1969' 'Nov-1977'\n",
      " 'Sep-1971' 'Feb-1971' 'Nov-1971' 'Dec-1971' 'Jan-1967' 'Dec-1963'\n",
      " 'Jun-1975' 'Apr-1973' 'Mar-1976' 'May-1979' 'Jan-1968' 'Sep-1975'\n",
      " 'Nov-1969' 'Jun-1974' 'Jul-1980' 'Jul-1979' 'Jan-1962' 'Aug-1980'\n",
      " 'Mar-1979' 'May-1980' 'Nov-1964' 'Mar-1968' 'Jun-1971' 'Jul-1978'\n",
      " 'Mar-1961' 'Aug-1972' 'Feb-1975' 'Nov-1966' 'Aug-1968' 'Mar-1975'\n",
      " 'Nov-1968' 'Dec-1970' 'May-1964' 'Dec-1973' 'Dec-1966' 'Dec-1962'\n",
      " 'Jul-1977' 'Aug-1971' 'Apr-1966' 'Nov-1973' 'Jul-1963' 'May-1968'\n",
      " 'Jul-1971' 'Sep-1974' 'Jun-1977' 'Apr-1967' 'Feb-1974' 'Nov-1970'\n",
      " 'May-1969' 'Feb-1965' 'Mar-1972' 'Jun-1952' 'Oct-1968' 'Jul-1968'\n",
      " 'Jul-1959' 'May-1970' 'Jan-1966' 'Jan-1974' 'Jan-1961' 'Apr-1965'\n",
      " 'Jan-1957' 'Dec-1967' 'Sep-1969' 'Apr-1968' 'Mar-1969' 'Apr-1974'\n",
      " 'Apr-1964' 'Aug-1961' 'Sep-1967' 'Jan-1969' 'Mar-1959' 'Jul-1969'\n",
      " 'Sep-1965' 'Mar-1966' 'Jul-1962' 'Jun-1969' 'Sep-1968' 'May-1974'\n",
      " 'Jun-1949' 'Feb-1972' 'May-1966' 'Aug-1967' 'Jun-1964' 'May-1959'\n",
      " 'Jan-1954' 'Jan-1970' 'Jan-1965' 'Aug-1966' 'Sep-1966' 'Feb-1967'\n",
      " 'Oct-1970' 'Oct-1961' 'Mar-1965' 'Jan-1958' 'Sep-1972' 'Jan-1963'\n",
      " 'Sep-1953' 'Jul-1965' 'Jun-1967' 'Sep-1962' 'Oct-1969' 'May-1971'\n",
      " 'Nov-1956' 'Jun-1956' 'Jul-1966' 'Oct-1966' 'Jun-1963' 'Oct-1967'\n",
      " 'Nov-1965' 'Oct-1963' 'Dec-1964' 'Jun-1968' 'Oct-1964' 'Dec-1965'\n",
      " 'Sep-1963' 'Sep-1964' 'May-1957' 'Feb-1966' 'Jul-1967' 'Jun-1961'\n",
      " 'Feb-1958' 'Aug-1965' 'Feb-1968' None 'Jan-2015' 'Feb-2015' 'Dec-2014'\n",
      " 'Jul-1961' 'Mar-1964' 'Aug-1963' 'Aug-1964' 'Apr-1963' 'Mar-1962'\n",
      " 'May-1967' 'May-1961' 'Jan-1950' 'Feb-1961' 'Feb-1964' 'Jun-1966'\n",
      " 'Dec-1960' 'Oct-1958' 'Jan-1952' 'Sep-1961' 'Aug-1959' 'Jan-1953'\n",
      " 'Jul-1958' 'Jan-1956' 'Aug-1960' 'Nov-1963' 'Sep-1951' 'Jun-1959'\n",
      " 'Nov-1959' 'Feb-1962' 'Apr-1961' 'Feb-1934' 'Mar-1960' 'Aug-1957'\n",
      " 'Oct-1960' 'Dec-1958' 'Jun-1957' 'May-1960' 'Aug-1962' 'Nov-1952'\n",
      " 'Aug-1958' 'Dec-1956' 'Aug-1953' 'Feb-1963' 'Apr-1934' 'Jul-1960'\n",
      " 'Dec-1959' 'Feb-1959' 'Oct-1962' 'Jun-1962' 'Jun-1960']\n"
     ]
    }
   ],
   "source": [
    "print(unique_values)"
   ]
  },
  {
   "cell_type": "code",
   "execution_count": 111,
   "id": "ca732d03",
   "metadata": {},
   "outputs": [],
   "source": [
    "def calculate_credit_history(date_str):\n",
    "    if date_str is None:  \n",
    "        return None  # Handle missing values\n",
    "    \n",
    "    earliest_cr_line = datetime.strptime(date_str, '%b-%Y')\n",
    "    date_present = datetime.now()\n",
    "    date_diff_days = (earliest_cr_line - date_present).days\n",
    "    \n",
    "    # Calculate the result as per the formula\n",
    "    result = date_diff_days // (1000 * 60 * 60 * 24 * 30)\n",
    "    \n",
    "    return result\n",
    "\n",
    "\n",
    "\n",
    "\n",
    "\n"
   ]
  },
  {
   "cell_type": "code",
   "execution_count": 144,
   "id": "f312c8c1",
   "metadata": {},
   "outputs": [],
   "source": [
    "def calculate_credit_history(date_str):\n",
    "    if date_str is None:  \n",
    "        return None  # Handle missing values\n",
    "    \n",
    "    earliest_cr_line = datetime.strptime(date_str, '%b-%Y')\n",
    "    date_present = datetime.now()\n",
    "    date_diff = (date_present.year - earliest_cr_line.year) * 12 + (date_present.month - earliest_cr_line.month)\n",
    "\n",
    "    # Convert the result to an integer by flooring it\n",
    "    date_diff = int(date_diff)\n",
    "    \n",
    "    return date_diff\n"
   ]
  },
  {
   "cell_type": "code",
   "execution_count": 145,
   "id": "10188072",
   "metadata": {},
   "outputs": [
    {
     "name": "stdout",
     "output_type": "stream",
     "text": [
      "<function calculate_credit_history at 0x000001ED1E603920>\n"
     ]
    }
   ],
   "source": [
    "print(calculate_credit_history)"
   ]
  },
  {
   "cell_type": "code",
   "execution_count": 146,
   "id": "f1a4a7f2",
   "metadata": {},
   "outputs": [
    {
     "name": "stdout",
     "output_type": "stream",
     "text": [
      "                                                      id member_id  loan_amnt  \\\n",
      "0                                                   None      None    20000.0   \n",
      "1                                                   None      None     7000.0   \n",
      "2                                                   None      None     6700.0   \n",
      "3                                                   None      None    18000.0   \n",
      "4                                                   None      None     1000.0   \n",
      "...                                                  ...       ...        ...   \n",
      "551447                                              None      None     4375.0   \n",
      "551448                                              None      None    12000.0   \n",
      "551449                                              None      None    14000.0   \n",
      "551450  Total amount funded in policy code 1: 1741781700      None        NaN   \n",
      "551451   Total amount funded in policy code 2: 539397275      None        NaN   \n",
      "\n",
      "        funded_amnt  funded_amnt_inv       term  int_rate  installment grade  \\\n",
      "0           20000.0          20000.0  36 months     10.42       649.30     B   \n",
      "1            7000.0           7000.0  36 months      6.08       213.21     A   \n",
      "2            6700.0           6700.0  36 months     10.91       219.07     B   \n",
      "3           18000.0          18000.0  36 months     12.62       603.21     C   \n",
      "4            1000.0           1000.0  36 months     22.91        38.67     E   \n",
      "...             ...              ...        ...       ...          ...   ...   \n",
      "551447       4375.0           4375.0  36 months     14.08       149.70     C   \n",
      "551448      12000.0          11975.0  36 months     10.42       389.58     B   \n",
      "551449      14000.0          13975.0  36 months     13.59       475.71     C   \n",
      "551450          NaN              NaN       None       NaN          NaN  None   \n",
      "551451          NaN              NaN       None       NaN          NaN  None   \n",
      "\n",
      "       sub_grade  ... debt_settlement_flag_date settlement_status  \\\n",
      "0             B3  ...                      None              None   \n",
      "1             A2  ...                      None              None   \n",
      "2             B4  ...                      None              None   \n",
      "3             C1  ...                      None              None   \n",
      "4             E1  ...                      None              None   \n",
      "...          ...  ...                       ...               ...   \n",
      "551447        C3  ...                      None              None   \n",
      "551448        B3  ...                      None              None   \n",
      "551449        C2  ...                      None              None   \n",
      "551450      None  ...                      None              None   \n",
      "551451      None  ...                      None              None   \n",
      "\n",
      "       settlement_date settlement_amount settlement_percentage  \\\n",
      "0                 None               NaN                   NaN   \n",
      "1                 None               NaN                   NaN   \n",
      "2                 None               NaN                   NaN   \n",
      "3                 None               NaN                   NaN   \n",
      "4                 None               NaN                   NaN   \n",
      "...                ...               ...                   ...   \n",
      "551447            None               NaN                   NaN   \n",
      "551448            None               NaN                   NaN   \n",
      "551449            None               NaN                   NaN   \n",
      "551450            None               NaN                   NaN   \n",
      "551451            None               NaN                   NaN   \n",
      "\n",
      "       settlement_term Quarter  Year     Label Risk_Score  \n",
      "0                  NaN      Q4  2017  Approved         80  \n",
      "1                  NaN      Q4  2017  Approved         80  \n",
      "2                  NaN      Q4  2017  Approved         80  \n",
      "3                  NaN      Q4  2017  Approved         80  \n",
      "4                  NaN      Q4  2017  Approved         80  \n",
      "...                ...     ...   ...       ...        ...  \n",
      "551447             NaN      Q1  2018  Approved         80  \n",
      "551448             NaN      Q1  2018  Approved         80  \n",
      "551449             NaN      Q1  2018  Approved         80  \n",
      "551450             NaN      Q1  2018  Approved         80  \n",
      "551451             NaN      Q1  2018  Approved         80  \n",
      "\n",
      "[551452 rows x 149 columns]\n"
     ]
    }
   ],
   "source": [
    "print(df)"
   ]
  },
  {
   "cell_type": "code",
   "execution_count": 147,
   "id": "45a2f299",
   "metadata": {},
   "outputs": [],
   "source": [
    "df['Credit_History'] = df['earliest_cr_line'].apply(calculate_credit_history)"
   ]
  },
  {
   "cell_type": "code",
   "execution_count": 148,
   "id": "12a2b7a8",
   "metadata": {},
   "outputs": [
    {
     "name": "stdout",
     "output_type": "stream",
     "text": [
      "0         163.0\n",
      "1         152.0\n",
      "2         365.0\n",
      "3         317.0\n",
      "4         190.0\n",
      "          ...  \n",
      "551447    354.0\n",
      "551448    303.0\n",
      "551449    193.0\n",
      "551450      NaN\n",
      "551451      NaN\n",
      "Name: Credit_History, Length: 551452, dtype: float64\n"
     ]
    }
   ],
   "source": [
    "print(df['Credit_History'])"
   ]
  },
  {
   "cell_type": "code",
   "execution_count": 149,
   "id": "62bdf3ee",
   "metadata": {},
   "outputs": [
    {
     "name": "stdout",
     "output_type": "stream",
     "text": [
      "Minimum value: 102.0\n",
      "Maximum value: 1074.0\n"
     ]
    }
   ],
   "source": [
    "min_value = df['Credit_History'].min()\n",
    "max_value = df['Credit_History'].max()\n",
    "\n",
    "# Print the results\n",
    "print(\"Minimum value:\", min_value)\n",
    "print(\"Maximum value:\", max_value)"
   ]
  },
  {
   "cell_type": "code",
   "execution_count": 150,
   "id": "bc2dcf96",
   "metadata": {},
   "outputs": [],
   "source": [
    "def update_risk_score(row):\n",
    "    if row['Credit_History'] >= 48:\n",
    "        return row['Risk_Score'] + 80\n",
    "    elif row['Credit_History'] >= 24:\n",
    "        return row['Risk_Score'] + 60\n",
    "    elif row['Credit_History'] >= 12:\n",
    "        return row['Risk_Score'] + 40\n",
    "    else:\n",
    "        return row['Risk_Score'] + 10"
   ]
  },
  {
   "cell_type": "code",
   "execution_count": 151,
   "id": "d427b0dd",
   "metadata": {},
   "outputs": [],
   "source": [
    "df['Risk_Score'] = df.apply(update_risk_score, axis=1)"
   ]
  },
  {
   "cell_type": "code",
   "execution_count": 152,
   "id": "a6fed7ce",
   "metadata": {},
   "outputs": [
    {
     "name": "stdout",
     "output_type": "stream",
     "text": [
      "0         160\n",
      "1         160\n",
      "2         160\n",
      "3         160\n",
      "4         160\n",
      "         ... \n",
      "551447    160\n",
      "551448    160\n",
      "551449    160\n",
      "551450     90\n",
      "551451     90\n",
      "Name: Risk_Score, Length: 551452, dtype: int64\n"
     ]
    }
   ],
   "source": [
    "print(df['Risk_Score'])"
   ]
  },
  {
   "cell_type": "code",
   "execution_count": 153,
   "id": "b1a4115b",
   "metadata": {},
   "outputs": [],
   "source": [
    "def update_risk_score1(row):\n",
    "    inq_last_6mths = row['inq_last_6mths']\n",
    "    risk_score = row['Risk_Score']\n",
    "    \n",
    "    if inq_last_6mths >= 4:\n",
    "        return risk_score + 20\n",
    "    elif inq_last_6mths >= 3:\n",
    "        return risk_score + 30\n",
    "    elif inq_last_6mths >= 2:\n",
    "        return risk_score + 50\n",
    "    elif inq_last_6mths >= 1:\n",
    "        return risk_score + 60\n",
    "    else:\n",
    "        return risk_score + 80"
   ]
  },
  {
   "cell_type": "code",
   "execution_count": 154,
   "id": "2fc488d1",
   "metadata": {},
   "outputs": [],
   "source": [
    "df['Risk_Score'] = df.apply(update_risk_score1, axis=1)"
   ]
  },
  {
   "cell_type": "code",
   "execution_count": 155,
   "id": "c87656ed",
   "metadata": {},
   "outputs": [
    {
     "name": "stdout",
     "output_type": "stream",
     "text": [
      "0         240\n",
      "1         240\n",
      "2         240\n",
      "3         240\n",
      "4         220\n",
      "         ... \n",
      "551447    240\n",
      "551448    240\n",
      "551449    220\n",
      "551450    170\n",
      "551451    170\n",
      "Name: Risk_Score, Length: 551452, dtype: int64\n"
     ]
    }
   ],
   "source": [
    "print(df['Risk_Score'])"
   ]
  },
  {
   "cell_type": "code",
   "execution_count": 156,
   "id": "0127cfe9",
   "metadata": {},
   "outputs": [
    {
     "name": "stdout",
     "output_type": "stream",
     "text": [
      "                                                      id member_id  loan_amnt  \\\n",
      "0                                                   None      None    20000.0   \n",
      "1                                                   None      None     7000.0   \n",
      "2                                                   None      None     6700.0   \n",
      "3                                                   None      None    18000.0   \n",
      "4                                                   None      None     1000.0   \n",
      "...                                                  ...       ...        ...   \n",
      "551447                                              None      None     4375.0   \n",
      "551448                                              None      None    12000.0   \n",
      "551449                                              None      None    14000.0   \n",
      "551450  Total amount funded in policy code 1: 1741781700      None        NaN   \n",
      "551451   Total amount funded in policy code 2: 539397275      None        NaN   \n",
      "\n",
      "        funded_amnt  funded_amnt_inv       term  int_rate  installment grade  \\\n",
      "0           20000.0          20000.0  36 months     10.42       649.30     B   \n",
      "1            7000.0           7000.0  36 months      6.08       213.21     A   \n",
      "2            6700.0           6700.0  36 months     10.91       219.07     B   \n",
      "3           18000.0          18000.0  36 months     12.62       603.21     C   \n",
      "4            1000.0           1000.0  36 months     22.91        38.67     E   \n",
      "...             ...              ...        ...       ...          ...   ...   \n",
      "551447       4375.0           4375.0  36 months     14.08       149.70     C   \n",
      "551448      12000.0          11975.0  36 months     10.42       389.58     B   \n",
      "551449      14000.0          13975.0  36 months     13.59       475.71     C   \n",
      "551450          NaN              NaN       None       NaN          NaN  None   \n",
      "551451          NaN              NaN       None       NaN          NaN  None   \n",
      "\n",
      "       sub_grade  ... settlement_status settlement_date settlement_amount  \\\n",
      "0             B3  ...              None            None               NaN   \n",
      "1             A2  ...              None            None               NaN   \n",
      "2             B4  ...              None            None               NaN   \n",
      "3             C1  ...              None            None               NaN   \n",
      "4             E1  ...              None            None               NaN   \n",
      "...          ...  ...               ...             ...               ...   \n",
      "551447        C3  ...              None            None               NaN   \n",
      "551448        B3  ...              None            None               NaN   \n",
      "551449        C2  ...              None            None               NaN   \n",
      "551450      None  ...              None            None               NaN   \n",
      "551451      None  ...              None            None               NaN   \n",
      "\n",
      "       settlement_percentage settlement_term Quarter  Year     Label  \\\n",
      "0                        NaN             NaN      Q4  2017  Approved   \n",
      "1                        NaN             NaN      Q4  2017  Approved   \n",
      "2                        NaN             NaN      Q4  2017  Approved   \n",
      "3                        NaN             NaN      Q4  2017  Approved   \n",
      "4                        NaN             NaN      Q4  2017  Approved   \n",
      "...                      ...             ...     ...   ...       ...   \n",
      "551447                   NaN             NaN      Q1  2018  Approved   \n",
      "551448                   NaN             NaN      Q1  2018  Approved   \n",
      "551449                   NaN             NaN      Q1  2018  Approved   \n",
      "551450                   NaN             NaN      Q1  2018  Approved   \n",
      "551451                   NaN             NaN      Q1  2018  Approved   \n",
      "\n",
      "       Risk_Score Credit_History  \n",
      "0             320          163.0  \n",
      "1             300          152.0  \n",
      "2             320          365.0  \n",
      "3             300          317.0  \n",
      "4             230          190.0  \n",
      "...           ...            ...  \n",
      "551447        320          354.0  \n",
      "551448        300          303.0  \n",
      "551449        300          193.0  \n",
      "551450        180            NaN  \n",
      "551451        180            NaN  \n",
      "\n",
      "[551452 rows x 150 columns]\n"
     ]
    }
   ],
   "source": [
    "def update_risk_score2(row):\n",
    "    num_actv_bc_tl = row['num_actv_bc_tl']\n",
    "    risk_score = row['Risk_Score']\n",
    "    \n",
    "    if num_actv_bc_tl >= 4:\n",
    "        return risk_score + 80\n",
    "    elif num_actv_bc_tl >= 3:\n",
    "        return risk_score + 60\n",
    "    elif num_actv_bc_tl >= 2:\n",
    "        return risk_score + 50\n",
    "    elif num_actv_bc_tl >= 1:\n",
    "        return risk_score + 30\n",
    "    else:\n",
    "        return risk_score + 10\n",
    "\n",
    "# Apply the function to update the 'Risk_Score' column\n",
    "df['Risk_Score'] = df.apply(update_risk_score2, axis=1)\n",
    "\n",
    "print(df)"
   ]
  },
  {
   "cell_type": "code",
   "execution_count": 157,
   "id": "5ed98bd4",
   "metadata": {},
   "outputs": [
    {
     "name": "stdout",
     "output_type": "stream",
     "text": [
      "                                                      id member_id  loan_amnt  \\\n",
      "0                                                   None      None    20000.0   \n",
      "1                                                   None      None     7000.0   \n",
      "2                                                   None      None     6700.0   \n",
      "3                                                   None      None    18000.0   \n",
      "4                                                   None      None     1000.0   \n",
      "...                                                  ...       ...        ...   \n",
      "551447                                              None      None     4375.0   \n",
      "551448                                              None      None    12000.0   \n",
      "551449                                              None      None    14000.0   \n",
      "551450  Total amount funded in policy code 1: 1741781700      None        NaN   \n",
      "551451   Total amount funded in policy code 2: 539397275      None        NaN   \n",
      "\n",
      "        funded_amnt  funded_amnt_inv       term  int_rate  installment grade  \\\n",
      "0           20000.0          20000.0  36 months     10.42       649.30     B   \n",
      "1            7000.0           7000.0  36 months      6.08       213.21     A   \n",
      "2            6700.0           6700.0  36 months     10.91       219.07     B   \n",
      "3           18000.0          18000.0  36 months     12.62       603.21     C   \n",
      "4            1000.0           1000.0  36 months     22.91        38.67     E   \n",
      "...             ...              ...        ...       ...          ...   ...   \n",
      "551447       4375.0           4375.0  36 months     14.08       149.70     C   \n",
      "551448      12000.0          11975.0  36 months     10.42       389.58     B   \n",
      "551449      14000.0          13975.0  36 months     13.59       475.71     C   \n",
      "551450          NaN              NaN       None       NaN          NaN  None   \n",
      "551451          NaN              NaN       None       NaN          NaN  None   \n",
      "\n",
      "       sub_grade  ... settlement_status settlement_date settlement_amount  \\\n",
      "0             B3  ...              None            None               NaN   \n",
      "1             A2  ...              None            None               NaN   \n",
      "2             B4  ...              None            None               NaN   \n",
      "3             C1  ...              None            None               NaN   \n",
      "4             E1  ...              None            None               NaN   \n",
      "...          ...  ...               ...             ...               ...   \n",
      "551447        C3  ...              None            None               NaN   \n",
      "551448        B3  ...              None            None               NaN   \n",
      "551449        C2  ...              None            None               NaN   \n",
      "551450      None  ...              None            None               NaN   \n",
      "551451      None  ...              None            None               NaN   \n",
      "\n",
      "       settlement_percentage settlement_term Quarter  Year     Label  \\\n",
      "0                        NaN             NaN      Q4  2017  Approved   \n",
      "1                        NaN             NaN      Q4  2017  Approved   \n",
      "2                        NaN             NaN      Q4  2017  Approved   \n",
      "3                        NaN             NaN      Q4  2017  Approved   \n",
      "4                        NaN             NaN      Q4  2017  Approved   \n",
      "...                      ...             ...     ...   ...       ...   \n",
      "551447                   NaN             NaN      Q1  2018  Approved   \n",
      "551448                   NaN             NaN      Q1  2018  Approved   \n",
      "551449                   NaN             NaN      Q1  2018  Approved   \n",
      "551450                   NaN             NaN      Q1  2018  Approved   \n",
      "551451                   NaN             NaN      Q1  2018  Approved   \n",
      "\n",
      "       Risk_Score Credit_History  \n",
      "0             380          163.0  \n",
      "1             380          152.0  \n",
      "2             380          365.0  \n",
      "3             360          317.0  \n",
      "4             310          190.0  \n",
      "...           ...            ...  \n",
      "551447        380          354.0  \n",
      "551448        370          303.0  \n",
      "551449        380          193.0  \n",
      "551450        260            NaN  \n",
      "551451        260            NaN  \n",
      "\n",
      "[551452 rows x 150 columns]\n"
     ]
    }
   ],
   "source": [
    "def update_risk_score3(row):\n",
    "    dti = row['dti']\n",
    "    risk_score = row['Risk_Score']\n",
    "    \n",
    "    if dti >= 500:\n",
    "        return risk_score + 10\n",
    "    elif dti >= 200:\n",
    "        return risk_score + 20\n",
    "    elif dti >= 100:\n",
    "        return risk_score + 30\n",
    "    elif dti >= 50:\n",
    "        return risk_score + 50\n",
    "    elif dti >= 20:\n",
    "        return risk_score + 60\n",
    "    elif dti >= 10:\n",
    "        return risk_score + 70\n",
    "    else:\n",
    "        return risk_score + 80\n",
    "\n",
    "# Apply the function to update the 'Risk_Score' column\n",
    "df['Risk_Score'] = df.apply(update_risk_score3, axis=1)\n",
    "\n",
    "print(df)\n",
    "\n",
    "\n",
    "\n",
    "\n",
    "\n"
   ]
  },
  {
   "cell_type": "code",
   "execution_count": 158,
   "id": "759f5461",
   "metadata": {},
   "outputs": [
    {
     "name": "stdout",
     "output_type": "stream",
     "text": [
      "                                                      id member_id  loan_amnt  \\\n",
      "0                                                   None      None    20000.0   \n",
      "1                                                   None      None     7000.0   \n",
      "2                                                   None      None     6700.0   \n",
      "3                                                   None      None    18000.0   \n",
      "4                                                   None      None     1000.0   \n",
      "...                                                  ...       ...        ...   \n",
      "551447                                              None      None     4375.0   \n",
      "551448                                              None      None    12000.0   \n",
      "551449                                              None      None    14000.0   \n",
      "551450  Total amount funded in policy code 1: 1741781700      None        NaN   \n",
      "551451   Total amount funded in policy code 2: 539397275      None        NaN   \n",
      "\n",
      "        funded_amnt  funded_amnt_inv       term  int_rate  installment grade  \\\n",
      "0           20000.0          20000.0  36 months     10.42       649.30     B   \n",
      "1            7000.0           7000.0  36 months      6.08       213.21     A   \n",
      "2            6700.0           6700.0  36 months     10.91       219.07     B   \n",
      "3           18000.0          18000.0  36 months     12.62       603.21     C   \n",
      "4            1000.0           1000.0  36 months     22.91        38.67     E   \n",
      "...             ...              ...        ...       ...          ...   ...   \n",
      "551447       4375.0           4375.0  36 months     14.08       149.70     C   \n",
      "551448      12000.0          11975.0  36 months     10.42       389.58     B   \n",
      "551449      14000.0          13975.0  36 months     13.59       475.71     C   \n",
      "551450          NaN              NaN       None       NaN          NaN  None   \n",
      "551451          NaN              NaN       None       NaN          NaN  None   \n",
      "\n",
      "       sub_grade  ... settlement_status settlement_date settlement_amount  \\\n",
      "0             B3  ...              None            None               NaN   \n",
      "1             A2  ...              None            None               NaN   \n",
      "2             B4  ...              None            None               NaN   \n",
      "3             C1  ...              None            None               NaN   \n",
      "4             E1  ...              None            None               NaN   \n",
      "...          ...  ...               ...             ...               ...   \n",
      "551447        C3  ...              None            None               NaN   \n",
      "551448        B3  ...              None            None               NaN   \n",
      "551449        C2  ...              None            None               NaN   \n",
      "551450      None  ...              None            None               NaN   \n",
      "551451      None  ...              None            None               NaN   \n",
      "\n",
      "       settlement_percentage settlement_term Quarter  Year     Label  \\\n",
      "0                        NaN             NaN      Q4  2017  Approved   \n",
      "1                        NaN             NaN      Q4  2017  Approved   \n",
      "2                        NaN             NaN      Q4  2017  Approved   \n",
      "3                        NaN             NaN      Q4  2017  Approved   \n",
      "4                        NaN             NaN      Q4  2017  Approved   \n",
      "...                      ...             ...     ...   ...       ...   \n",
      "551447                   NaN             NaN      Q1  2018  Approved   \n",
      "551448                   NaN             NaN      Q1  2018  Approved   \n",
      "551449                   NaN             NaN      Q1  2018  Approved   \n",
      "551450                   NaN             NaN      Q1  2018  Approved   \n",
      "551451                   NaN             NaN      Q1  2018  Approved   \n",
      "\n",
      "       Risk_Score Credit_History  \n",
      "0             460          163.0  \n",
      "1             460          152.0  \n",
      "2             430          365.0  \n",
      "3             430          317.0  \n",
      "4             390          190.0  \n",
      "...           ...            ...  \n",
      "551447        430          354.0  \n",
      "551448        440          303.0  \n",
      "551449        460          193.0  \n",
      "551450        340            NaN  \n",
      "551451        340            NaN  \n",
      "\n",
      "[551452 rows x 150 columns]\n"
     ]
    }
   ],
   "source": [
    "def update_risk_score4(row):\n",
    "    mort_acc = row['mort_acc']\n",
    "    risk_score = row['Risk_Score']\n",
    "    \n",
    "    if mort_acc >= 10:\n",
    "        return risk_score + 10\n",
    "    elif mort_acc >= 5:\n",
    "        return risk_score + 30\n",
    "    elif mort_acc >= 4:\n",
    "        return risk_score + 40\n",
    "    elif mort_acc >= 3:\n",
    "        return risk_score + 50\n",
    "    elif mort_acc >= 2:\n",
    "        return risk_score + 60\n",
    "    elif mort_acc >= 1:\n",
    "        return risk_score + 70\n",
    "    else:\n",
    "        return risk_score + 80\n",
    "\n",
    "# Apply the function to update the 'Risk_Score' column\n",
    "df['Risk_Score'] = df.apply(update_risk_score4, axis=1)\n",
    "\n",
    "print(df)\n"
   ]
  },
  {
   "cell_type": "code",
   "execution_count": 159,
   "id": "b5d75696",
   "metadata": {},
   "outputs": [
    {
     "name": "stdout",
     "output_type": "stream",
     "text": [
      "                                                      id member_id  loan_amnt  \\\n",
      "0                                                   None      None    20000.0   \n",
      "1                                                   None      None     7000.0   \n",
      "2                                                   None      None     6700.0   \n",
      "3                                                   None      None    18000.0   \n",
      "4                                                   None      None     1000.0   \n",
      "...                                                  ...       ...        ...   \n",
      "551447                                              None      None     4375.0   \n",
      "551448                                              None      None    12000.0   \n",
      "551449                                              None      None    14000.0   \n",
      "551450  Total amount funded in policy code 1: 1741781700      None        NaN   \n",
      "551451   Total amount funded in policy code 2: 539397275      None        NaN   \n",
      "\n",
      "        funded_amnt  funded_amnt_inv       term  int_rate  installment grade  \\\n",
      "0           20000.0          20000.0  36 months     10.42       649.30     B   \n",
      "1            7000.0           7000.0  36 months      6.08       213.21     A   \n",
      "2            6700.0           6700.0  36 months     10.91       219.07     B   \n",
      "3           18000.0          18000.0  36 months     12.62       603.21     C   \n",
      "4            1000.0           1000.0  36 months     22.91        38.67     E   \n",
      "...             ...              ...        ...       ...          ...   ...   \n",
      "551447       4375.0           4375.0  36 months     14.08       149.70     C   \n",
      "551448      12000.0          11975.0  36 months     10.42       389.58     B   \n",
      "551449      14000.0          13975.0  36 months     13.59       475.71     C   \n",
      "551450          NaN              NaN       None       NaN          NaN  None   \n",
      "551451          NaN              NaN       None       NaN          NaN  None   \n",
      "\n",
      "       sub_grade  ... settlement_status settlement_date settlement_amount  \\\n",
      "0             B3  ...              None            None               NaN   \n",
      "1             A2  ...              None            None               NaN   \n",
      "2             B4  ...              None            None               NaN   \n",
      "3             C1  ...              None            None               NaN   \n",
      "4             E1  ...              None            None               NaN   \n",
      "...          ...  ...               ...             ...               ...   \n",
      "551447        C3  ...              None            None               NaN   \n",
      "551448        B3  ...              None            None               NaN   \n",
      "551449        C2  ...              None            None               NaN   \n",
      "551450      None  ...              None            None               NaN   \n",
      "551451      None  ...              None            None               NaN   \n",
      "\n",
      "       settlement_percentage settlement_term Quarter  Year     Label  \\\n",
      "0                        NaN             NaN      Q4  2017  Approved   \n",
      "1                        NaN             NaN      Q4  2017  Approved   \n",
      "2                        NaN             NaN      Q4  2017  Approved   \n",
      "3                        NaN             NaN      Q4  2017  Approved   \n",
      "4                        NaN             NaN      Q4  2017  Approved   \n",
      "...                      ...             ...     ...   ...       ...   \n",
      "551447                   NaN             NaN      Q1  2018  Approved   \n",
      "551448                   NaN             NaN      Q1  2018  Approved   \n",
      "551449                   NaN             NaN      Q1  2018  Approved   \n",
      "551450                   NaN             NaN      Q1  2018  Approved   \n",
      "551451                   NaN             NaN      Q1  2018  Approved   \n",
      "\n",
      "       Risk_Score Credit_History  \n",
      "0             500          163.0  \n",
      "1             500          152.0  \n",
      "2             470          365.0  \n",
      "3             470          317.0  \n",
      "4             430          190.0  \n",
      "...           ...            ...  \n",
      "551447        470          354.0  \n",
      "551448        480          303.0  \n",
      "551449        500          193.0  \n",
      "551450        380            NaN  \n",
      "551451        380            NaN  \n",
      "\n",
      "[551452 rows x 150 columns]\n"
     ]
    }
   ],
   "source": [
    "def update_risk_score5(row):\n",
    "    hardship_flag = row['hardship_flag']\n",
    "    risk_score = row['Risk_Score']\n",
    "    \n",
    "    if hardship_flag == 'Y':\n",
    "        return risk_score + 0\n",
    "    else:\n",
    "        return risk_score + 40\n",
    "\n",
    "# Apply the function to update the 'Risk_Score' column\n",
    "df['Risk_Score'] = df.apply(update_risk_score5, axis=1)\n",
    "\n",
    "print(df)"
   ]
  },
  {
   "cell_type": "code",
   "execution_count": 160,
   "id": "52189d7b",
   "metadata": {},
   "outputs": [
    {
     "name": "stdout",
     "output_type": "stream",
     "text": [
      "                                                      id member_id  loan_amnt  \\\n",
      "0                                                   None      None    20000.0   \n",
      "1                                                   None      None     7000.0   \n",
      "2                                                   None      None     6700.0   \n",
      "3                                                   None      None    18000.0   \n",
      "4                                                   None      None     1000.0   \n",
      "...                                                  ...       ...        ...   \n",
      "551447                                              None      None     4375.0   \n",
      "551448                                              None      None    12000.0   \n",
      "551449                                              None      None    14000.0   \n",
      "551450  Total amount funded in policy code 1: 1741781700      None        NaN   \n",
      "551451   Total amount funded in policy code 2: 539397275      None        NaN   \n",
      "\n",
      "        funded_amnt  funded_amnt_inv       term  int_rate  installment grade  \\\n",
      "0           20000.0          20000.0  36 months     10.42       649.30     B   \n",
      "1            7000.0           7000.0  36 months      6.08       213.21     A   \n",
      "2            6700.0           6700.0  36 months     10.91       219.07     B   \n",
      "3           18000.0          18000.0  36 months     12.62       603.21     C   \n",
      "4            1000.0           1000.0  36 months     22.91        38.67     E   \n",
      "...             ...              ...        ...       ...          ...   ...   \n",
      "551447       4375.0           4375.0  36 months     14.08       149.70     C   \n",
      "551448      12000.0          11975.0  36 months     10.42       389.58     B   \n",
      "551449      14000.0          13975.0  36 months     13.59       475.71     C   \n",
      "551450          NaN              NaN       None       NaN          NaN  None   \n",
      "551451          NaN              NaN       None       NaN          NaN  None   \n",
      "\n",
      "       sub_grade  ... settlement_status settlement_date settlement_amount  \\\n",
      "0             B3  ...              None            None               NaN   \n",
      "1             A2  ...              None            None               NaN   \n",
      "2             B4  ...              None            None               NaN   \n",
      "3             C1  ...              None            None               NaN   \n",
      "4             E1  ...              None            None               NaN   \n",
      "...          ...  ...               ...             ...               ...   \n",
      "551447        C3  ...              None            None               NaN   \n",
      "551448        B3  ...              None            None               NaN   \n",
      "551449        C2  ...              None            None               NaN   \n",
      "551450      None  ...              None            None               NaN   \n",
      "551451      None  ...              None            None               NaN   \n",
      "\n",
      "       settlement_percentage settlement_term Quarter  Year     Label  \\\n",
      "0                        NaN             NaN      Q4  2017  Approved   \n",
      "1                        NaN             NaN      Q4  2017  Approved   \n",
      "2                        NaN             NaN      Q4  2017  Approved   \n",
      "3                        NaN             NaN      Q4  2017  Approved   \n",
      "4                        NaN             NaN      Q4  2017  Approved   \n",
      "...                      ...             ...     ...   ...       ...   \n",
      "551447                   NaN             NaN      Q1  2018  Approved   \n",
      "551448                   NaN             NaN      Q1  2018  Approved   \n",
      "551449                   NaN             NaN      Q1  2018  Approved   \n",
      "551450                   NaN             NaN      Q1  2018  Approved   \n",
      "551451                   NaN             NaN      Q1  2018  Approved   \n",
      "\n",
      "       Risk_Score Credit_History  \n",
      "0             540          163.0  \n",
      "1             540          152.0  \n",
      "2             510          365.0  \n",
      "3             510          317.0  \n",
      "4             470          190.0  \n",
      "...           ...            ...  \n",
      "551447        510          354.0  \n",
      "551448        520          303.0  \n",
      "551449        540          193.0  \n",
      "551450        420            NaN  \n",
      "551451        420            NaN  \n",
      "\n",
      "[551452 rows x 150 columns]\n"
     ]
    }
   ],
   "source": [
    "def update_risk_score6(row):\n",
    "    debt_settlement_flag = row['debt_settlement_flag']\n",
    "    risk_score = row['Risk_Score']\n",
    "    \n",
    "    if debt_settlement_flag == 'Y':\n",
    "        return risk_score + 0\n",
    "    else:\n",
    "        return risk_score + 40\n",
    "\n",
    "# Apply the function to update the 'Risk_Score' column\n",
    "df['Risk_Score'] = df.apply(update_risk_score6, axis=1)\n",
    "\n",
    "print(df)\n",
    "\n",
    "\n",
    "\n",
    "\n"
   ]
  },
  {
   "cell_type": "code",
   "execution_count": 161,
   "id": "4583729b",
   "metadata": {},
   "outputs": [
    {
     "name": "stdout",
     "output_type": "stream",
     "text": [
      "                                                      id member_id  loan_amnt  \\\n",
      "0                                                   None      None    20000.0   \n",
      "1                                                   None      None     7000.0   \n",
      "2                                                   None      None     6700.0   \n",
      "3                                                   None      None    18000.0   \n",
      "4                                                   None      None     1000.0   \n",
      "...                                                  ...       ...        ...   \n",
      "551447                                              None      None     4375.0   \n",
      "551448                                              None      None    12000.0   \n",
      "551449                                              None      None    14000.0   \n",
      "551450  Total amount funded in policy code 1: 1741781700      None        NaN   \n",
      "551451   Total amount funded in policy code 2: 539397275      None        NaN   \n",
      "\n",
      "        funded_amnt  funded_amnt_inv       term  int_rate  installment grade  \\\n",
      "0           20000.0          20000.0  36 months     10.42       649.30     B   \n",
      "1            7000.0           7000.0  36 months      6.08       213.21     A   \n",
      "2            6700.0           6700.0  36 months     10.91       219.07     B   \n",
      "3           18000.0          18000.0  36 months     12.62       603.21     C   \n",
      "4            1000.0           1000.0  36 months     22.91        38.67     E   \n",
      "...             ...              ...        ...       ...          ...   ...   \n",
      "551447       4375.0           4375.0  36 months     14.08       149.70     C   \n",
      "551448      12000.0          11975.0  36 months     10.42       389.58     B   \n",
      "551449      14000.0          13975.0  36 months     13.59       475.71     C   \n",
      "551450          NaN              NaN       None       NaN          NaN  None   \n",
      "551451          NaN              NaN       None       NaN          NaN  None   \n",
      "\n",
      "       sub_grade  ... settlement_status settlement_date settlement_amount  \\\n",
      "0             B3  ...              None            None               NaN   \n",
      "1             A2  ...              None            None               NaN   \n",
      "2             B4  ...              None            None               NaN   \n",
      "3             C1  ...              None            None               NaN   \n",
      "4             E1  ...              None            None               NaN   \n",
      "...          ...  ...               ...             ...               ...   \n",
      "551447        C3  ...              None            None               NaN   \n",
      "551448        B3  ...              None            None               NaN   \n",
      "551449        C2  ...              None            None               NaN   \n",
      "551450      None  ...              None            None               NaN   \n",
      "551451      None  ...              None            None               NaN   \n",
      "\n",
      "       settlement_percentage settlement_term Quarter  Year     Label  \\\n",
      "0                        NaN             NaN      Q4  2017  Approved   \n",
      "1                        NaN             NaN      Q4  2017  Approved   \n",
      "2                        NaN             NaN      Q4  2017  Approved   \n",
      "3                        NaN             NaN      Q4  2017  Approved   \n",
      "4                        NaN             NaN      Q4  2017  Approved   \n",
      "...                      ...             ...     ...   ...       ...   \n",
      "551447                   NaN             NaN      Q1  2018  Approved   \n",
      "551448                   NaN             NaN      Q1  2018  Approved   \n",
      "551449                   NaN             NaN      Q1  2018  Approved   \n",
      "551450                   NaN             NaN      Q1  2018  Approved   \n",
      "551451                   NaN             NaN      Q1  2018  Approved   \n",
      "\n",
      "       Risk_Score Credit_History  \n",
      "0             620          163.0  \n",
      "1             620          152.0  \n",
      "2             590          365.0  \n",
      "3             590          317.0  \n",
      "4             550          190.0  \n",
      "...           ...            ...  \n",
      "551447        590          354.0  \n",
      "551448        600          303.0  \n",
      "551449        590          193.0  \n",
      "551450        500            NaN  \n",
      "551451        500            NaN  \n",
      "\n",
      "[551452 rows x 150 columns]\n"
     ]
    }
   ],
   "source": [
    "def update_risk_score7(row):\n",
    "    loan_status = row['loan_status']\n",
    "    risk_score = row['Risk_Score']\n",
    "    \n",
    "    if loan_status == 'Default':\n",
    "        return risk_score + 0\n",
    "    elif loan_status == 'Charged Off':\n",
    "        return risk_score + 10\n",
    "    elif loan_status == 'Late (31-120 days)':\n",
    "        return risk_score + 20\n",
    "    elif loan_status == 'Late (16-30 days)':\n",
    "        return risk_score + 30\n",
    "    elif loan_status == 'In Grace Period':\n",
    "        return risk_score + 40\n",
    "    elif loan_status == 'Fully Paid':\n",
    "        return risk_score + 50\n",
    "    else:\n",
    "        return risk_score + 80\n",
    "\n",
    "# Apply the function to update the 'Risk_Score' column\n",
    "df['Risk_Score'] = df.apply(update_risk_score7, axis=1)\n",
    "\n",
    "print(df)\n",
    "\n",
    "\n",
    "\n"
   ]
  },
  {
   "cell_type": "code",
   "execution_count": 162,
   "id": "7413a4ce",
   "metadata": {},
   "outputs": [
    {
     "name": "stdout",
     "output_type": "stream",
     "text": [
      "                                                      id member_id  loan_amnt  \\\n",
      "0                                                   None      None    20000.0   \n",
      "1                                                   None      None     7000.0   \n",
      "2                                                   None      None     6700.0   \n",
      "3                                                   None      None    18000.0   \n",
      "4                                                   None      None     1000.0   \n",
      "...                                                  ...       ...        ...   \n",
      "551447                                              None      None     4375.0   \n",
      "551448                                              None      None    12000.0   \n",
      "551449                                              None      None    14000.0   \n",
      "551450  Total amount funded in policy code 1: 1741781700      None        NaN   \n",
      "551451   Total amount funded in policy code 2: 539397275      None        NaN   \n",
      "\n",
      "        funded_amnt  funded_amnt_inv       term  int_rate  installment grade  \\\n",
      "0           20000.0          20000.0  36 months     10.42       649.30     B   \n",
      "1            7000.0           7000.0  36 months      6.08       213.21     A   \n",
      "2            6700.0           6700.0  36 months     10.91       219.07     B   \n",
      "3           18000.0          18000.0  36 months     12.62       603.21     C   \n",
      "4            1000.0           1000.0  36 months     22.91        38.67     E   \n",
      "...             ...              ...        ...       ...          ...   ...   \n",
      "551447       4375.0           4375.0  36 months     14.08       149.70     C   \n",
      "551448      12000.0          11975.0  36 months     10.42       389.58     B   \n",
      "551449      14000.0          13975.0  36 months     13.59       475.71     C   \n",
      "551450          NaN              NaN       None       NaN          NaN  None   \n",
      "551451          NaN              NaN       None       NaN          NaN  None   \n",
      "\n",
      "       sub_grade  ... settlement_status settlement_date settlement_amount  \\\n",
      "0             B3  ...              None            None               NaN   \n",
      "1             A2  ...              None            None               NaN   \n",
      "2             B4  ...              None            None               NaN   \n",
      "3             C1  ...              None            None               NaN   \n",
      "4             E1  ...              None            None               NaN   \n",
      "...          ...  ...               ...             ...               ...   \n",
      "551447        C3  ...              None            None               NaN   \n",
      "551448        B3  ...              None            None               NaN   \n",
      "551449        C2  ...              None            None               NaN   \n",
      "551450      None  ...              None            None               NaN   \n",
      "551451      None  ...              None            None               NaN   \n",
      "\n",
      "       settlement_percentage settlement_term Quarter  Year     Label  \\\n",
      "0                        NaN             NaN      Q4  2017  Approved   \n",
      "1                        NaN             NaN      Q4  2017  Approved   \n",
      "2                        NaN             NaN      Q4  2017  Approved   \n",
      "3                        NaN             NaN      Q4  2017  Approved   \n",
      "4                        NaN             NaN      Q4  2017  Approved   \n",
      "...                      ...             ...     ...   ...       ...   \n",
      "551447                   NaN             NaN      Q1  2018  Approved   \n",
      "551448                   NaN             NaN      Q1  2018  Approved   \n",
      "551449                   NaN             NaN      Q1  2018  Approved   \n",
      "551450                   NaN             NaN      Q1  2018  Approved   \n",
      "551451                   NaN             NaN      Q1  2018  Approved   \n",
      "\n",
      "       Risk_Score Credit_History  \n",
      "0             650          163.0  \n",
      "1             630          152.0  \n",
      "2             620          365.0  \n",
      "3             620          317.0  \n",
      "4             630          190.0  \n",
      "...           ...            ...  \n",
      "551447        620          354.0  \n",
      "551448        630          303.0  \n",
      "551449        620          193.0  \n",
      "551450        500            NaN  \n",
      "551451        500            NaN  \n",
      "\n",
      "[551452 rows x 150 columns]\n"
     ]
    }
   ],
   "source": [
    "def update_risk_score8(row):\n",
    "    int_rate = row['int_rate']\n",
    "    risk_score = row['Risk_Score']\n",
    "    \n",
    "    if int_rate >= 20:\n",
    "        return risk_score + 80\n",
    "    elif int_rate >= 15:\n",
    "        return risk_score + 60\n",
    "    elif int_rate >= 10:\n",
    "        return risk_score + 30\n",
    "    elif int_rate >= 5:\n",
    "        return risk_score + 10\n",
    "    else:\n",
    "        return risk_score + 0\n",
    "\n",
    "# Apply the function to update the 'Risk_Score' column\n",
    "df['Risk_Score'] = df.apply(update_risk_score8, axis=1)\n",
    "\n",
    "print(df)\n"
   ]
  },
  {
   "cell_type": "code",
   "execution_count": 163,
   "id": "5dfde451",
   "metadata": {},
   "outputs": [
    {
     "name": "stdout",
     "output_type": "stream",
     "text": [
      "                                                      id member_id  loan_amnt  \\\n",
      "0                                                   None      None    20000.0   \n",
      "1                                                   None      None     7000.0   \n",
      "2                                                   None      None     6700.0   \n",
      "3                                                   None      None    18000.0   \n",
      "4                                                   None      None     1000.0   \n",
      "...                                                  ...       ...        ...   \n",
      "551447                                              None      None     4375.0   \n",
      "551448                                              None      None    12000.0   \n",
      "551449                                              None      None    14000.0   \n",
      "551450  Total amount funded in policy code 1: 1741781700      None        NaN   \n",
      "551451   Total amount funded in policy code 2: 539397275      None        NaN   \n",
      "\n",
      "        funded_amnt  funded_amnt_inv       term  int_rate  installment grade  \\\n",
      "0           20000.0          20000.0  36 months     10.42       649.30     B   \n",
      "1            7000.0           7000.0  36 months      6.08       213.21     A   \n",
      "2            6700.0           6700.0  36 months     10.91       219.07     B   \n",
      "3           18000.0          18000.0  36 months     12.62       603.21     C   \n",
      "4            1000.0           1000.0  36 months     22.91        38.67     E   \n",
      "...             ...              ...        ...       ...          ...   ...   \n",
      "551447       4375.0           4375.0  36 months     14.08       149.70     C   \n",
      "551448      12000.0          11975.0  36 months     10.42       389.58     B   \n",
      "551449      14000.0          13975.0  36 months     13.59       475.71     C   \n",
      "551450          NaN              NaN       None       NaN          NaN  None   \n",
      "551451          NaN              NaN       None       NaN          NaN  None   \n",
      "\n",
      "       sub_grade  ... settlement_status settlement_date settlement_amount  \\\n",
      "0             B3  ...              None            None               NaN   \n",
      "1             A2  ...              None            None               NaN   \n",
      "2             B4  ...              None            None               NaN   \n",
      "3             C1  ...              None            None               NaN   \n",
      "4             E1  ...              None            None               NaN   \n",
      "...          ...  ...               ...             ...               ...   \n",
      "551447        C3  ...              None            None               NaN   \n",
      "551448        B3  ...              None            None               NaN   \n",
      "551449        C2  ...              None            None               NaN   \n",
      "551450      None  ...              None            None               NaN   \n",
      "551451      None  ...              None            None               NaN   \n",
      "\n",
      "       settlement_percentage settlement_term Quarter  Year     Label  \\\n",
      "0                        NaN             NaN      Q4  2017  Approved   \n",
      "1                        NaN             NaN      Q4  2017  Approved   \n",
      "2                        NaN             NaN      Q4  2017  Approved   \n",
      "3                        NaN             NaN      Q4  2017  Approved   \n",
      "4                        NaN             NaN      Q4  2017  Approved   \n",
      "...                      ...             ...     ...   ...       ...   \n",
      "551447                   NaN             NaN      Q1  2018  Approved   \n",
      "551448                   NaN             NaN      Q1  2018  Approved   \n",
      "551449                   NaN             NaN      Q1  2018  Approved   \n",
      "551450                   NaN             NaN      Q1  2018  Approved   \n",
      "551451                   NaN             NaN      Q1  2018  Approved   \n",
      "\n",
      "       Risk_Score Credit_History  \n",
      "0             730          163.0  \n",
      "1             710          152.0  \n",
      "2             700          365.0  \n",
      "3             700          317.0  \n",
      "4             710          190.0  \n",
      "...           ...            ...  \n",
      "551447        700          354.0  \n",
      "551448        710          303.0  \n",
      "551449        700          193.0  \n",
      "551450        580            NaN  \n",
      "551451        580            NaN  \n",
      "\n",
      "[551452 rows x 150 columns]\n"
     ]
    }
   ],
   "source": [
    "def update_risk_score9(row):\n",
    "    pub_rec_bankruptcies = row['pub_rec_bankruptcies']\n",
    "    risk_score = row['Risk_Score']\n",
    "    \n",
    "    if pub_rec_bankruptcies >= 5:\n",
    "        return risk_score + 0\n",
    "    elif pub_rec_bankruptcies >= 4:\n",
    "        return risk_score + 10\n",
    "    elif pub_rec_bankruptcies >= 3:\n",
    "        return risk_score + 20\n",
    "    elif pub_rec_bankruptcies >= 2:\n",
    "        return risk_score + 30\n",
    "    elif pub_rec_bankruptcies >= 1:\n",
    "        return risk_score + 40\n",
    "    else:\n",
    "        return risk_score + 80\n",
    "\n",
    "# Apply the function to update the 'Risk_Score' column\n",
    "df['Risk_Score'] = df.apply(update_risk_score9, axis=1)\n",
    "\n",
    "print(df)\n"
   ]
  },
  {
   "cell_type": "code",
   "execution_count": 164,
   "id": "ef17b6ea",
   "metadata": {},
   "outputs": [
    {
     "name": "stdout",
     "output_type": "stream",
     "text": [
      "                                                      id member_id  loan_amnt  \\\n",
      "0                                                   None      None    20000.0   \n",
      "1                                                   None      None     7000.0   \n",
      "2                                                   None      None     6700.0   \n",
      "3                                                   None      None    18000.0   \n",
      "4                                                   None      None     1000.0   \n",
      "...                                                  ...       ...        ...   \n",
      "551447                                              None      None     4375.0   \n",
      "551448                                              None      None    12000.0   \n",
      "551449                                              None      None    14000.0   \n",
      "551450  Total amount funded in policy code 1: 1741781700      None        NaN   \n",
      "551451   Total amount funded in policy code 2: 539397275      None        NaN   \n",
      "\n",
      "        funded_amnt  funded_amnt_inv       term  int_rate  installment grade  \\\n",
      "0           20000.0          20000.0  36 months     10.42       649.30     B   \n",
      "1            7000.0           7000.0  36 months      6.08       213.21     A   \n",
      "2            6700.0           6700.0  36 months     10.91       219.07     B   \n",
      "3           18000.0          18000.0  36 months     12.62       603.21     C   \n",
      "4            1000.0           1000.0  36 months     22.91        38.67     E   \n",
      "...             ...              ...        ...       ...          ...   ...   \n",
      "551447       4375.0           4375.0  36 months     14.08       149.70     C   \n",
      "551448      12000.0          11975.0  36 months     10.42       389.58     B   \n",
      "551449      14000.0          13975.0  36 months     13.59       475.71     C   \n",
      "551450          NaN              NaN       None       NaN          NaN  None   \n",
      "551451          NaN              NaN       None       NaN          NaN  None   \n",
      "\n",
      "       sub_grade  ... settlement_status settlement_date settlement_amount  \\\n",
      "0             B3  ...              None            None               NaN   \n",
      "1             A2  ...              None            None               NaN   \n",
      "2             B4  ...              None            None               NaN   \n",
      "3             C1  ...              None            None               NaN   \n",
      "4             E1  ...              None            None               NaN   \n",
      "...          ...  ...               ...             ...               ...   \n",
      "551447        C3  ...              None            None               NaN   \n",
      "551448        B3  ...              None            None               NaN   \n",
      "551449        C2  ...              None            None               NaN   \n",
      "551450      None  ...              None            None               NaN   \n",
      "551451      None  ...              None            None               NaN   \n",
      "\n",
      "       settlement_percentage settlement_term Quarter  Year     Label  \\\n",
      "0                        NaN             NaN      Q4  2017  Approved   \n",
      "1                        NaN             NaN      Q4  2017  Approved   \n",
      "2                        NaN             NaN      Q4  2017  Approved   \n",
      "3                        NaN             NaN      Q4  2017  Approved   \n",
      "4                        NaN             NaN      Q4  2017  Approved   \n",
      "...                      ...             ...     ...   ...       ...   \n",
      "551447                   NaN             NaN      Q1  2018  Approved   \n",
      "551448                   NaN             NaN      Q1  2018  Approved   \n",
      "551449                   NaN             NaN      Q1  2018  Approved   \n",
      "551450                   NaN             NaN      Q1  2018  Approved   \n",
      "551451                   NaN             NaN      Q1  2018  Approved   \n",
      "\n",
      "       Risk_Score Credit_History  \n",
      "0             780          163.0  \n",
      "1             790          152.0  \n",
      "2             780          365.0  \n",
      "3             750          317.0  \n",
      "4             770          190.0  \n",
      "...           ...            ...  \n",
      "551447        750          354.0  \n",
      "551448        760          303.0  \n",
      "551449        780          193.0  \n",
      "551450        610            NaN  \n",
      "551451        610            NaN  \n",
      "\n",
      "[551452 rows x 150 columns]\n"
     ]
    }
   ],
   "source": [
    "def update_risk_score10(row):\n",
    "    revol_bal = row['revol_bal']\n",
    "    risk_score = row['Risk_Score']\n",
    "    \n",
    "    if pd.isna(revol_bal):  # MISSING_NUMERIC condition\n",
    "        return risk_score + 30\n",
    "    elif revol_bal >= 100000:\n",
    "        return risk_score + 20\n",
    "    elif revol_bal >= 75000:\n",
    "        return risk_score + 30\n",
    "    elif revol_bal >= 50000:\n",
    "        return risk_score + 40\n",
    "    elif revol_bal >= 10000:\n",
    "        return risk_score + 50\n",
    "    elif revol_bal >= 100:\n",
    "        return risk_score + 80\n",
    "    else:\n",
    "        return risk_score + 60\n",
    "\n",
    "# Apply the function to update the 'Risk_Score' column\n",
    "df['Risk_Score'] = df.apply(update_risk_score10, axis=1)\n",
    "\n",
    "print(df)\n",
    "\n",
    "\n",
    "\n",
    "\n"
   ]
  },
  {
   "cell_type": "code",
   "execution_count": 165,
   "id": "40659167",
   "metadata": {},
   "outputs": [
    {
     "name": "stdout",
     "output_type": "stream",
     "text": [
      "Index(['id', 'member_id', 'loan_amnt', 'funded_amnt', 'funded_amnt_inv',\n",
      "       'term', 'int_rate', 'installment', 'grade', 'sub_grade',\n",
      "       ...\n",
      "       'settlement_status', 'settlement_date', 'settlement_amount',\n",
      "       'settlement_percentage', 'settlement_term', 'Quarter', 'Year', 'Label',\n",
      "       'Risk_Score', 'Credit_History'],\n",
      "      dtype='object', length=150)\n"
     ]
    }
   ],
   "source": [
    "column_names=df.columns\n",
    "print(column_names)"
   ]
  },
  {
   "cell_type": "code",
   "execution_count": 166,
   "id": "97a72c7e",
   "metadata": {},
   "outputs": [],
   "source": [
    "df.rename(columns={'Label': 'Application_status'}, inplace=True)"
   ]
  },
  {
   "cell_type": "code",
   "execution_count": 167,
   "id": "7ba728c3",
   "metadata": {},
   "outputs": [],
   "source": [
    "df.rename(columns={'title':'Loan Title'}, inplace=True)"
   ]
  },
  {
   "cell_type": "code",
   "execution_count": 168,
   "id": "165cdae6",
   "metadata": {},
   "outputs": [],
   "source": [
    "df.rename(columns={'emp_length':'Employment Length'}, inplace=True)"
   ]
  },
  {
   "cell_type": "code",
   "execution_count": 169,
   "id": "6c11b6bb",
   "metadata": {},
   "outputs": [],
   "source": [
    "df.rename(columns={'dti':'Debt-To-Income Ratio'}, inplace=True)"
   ]
  },
  {
   "cell_type": "code",
   "execution_count": 170,
   "id": "8c8b0245",
   "metadata": {},
   "outputs": [],
   "source": [
    "df.rename(columns={'loan_amnt':'Amount Requested'}, inplace=True)"
   ]
  },
  {
   "cell_type": "code",
   "execution_count": 171,
   "id": "1642d6fc",
   "metadata": {},
   "outputs": [
    {
     "name": "stdout",
     "output_type": "stream",
     "text": [
      "                                                      id member_id  \\\n",
      "0                                                   None      None   \n",
      "1                                                   None      None   \n",
      "2                                                   None      None   \n",
      "3                                                   None      None   \n",
      "4                                                   None      None   \n",
      "...                                                  ...       ...   \n",
      "551447                                              None      None   \n",
      "551448                                              None      None   \n",
      "551449                                              None      None   \n",
      "551450  Total amount funded in policy code 1: 1741781700      None   \n",
      "551451   Total amount funded in policy code 2: 539397275      None   \n",
      "\n",
      "        Amount Requested  funded_amnt  funded_amnt_inv       term  int_rate  \\\n",
      "0                20000.0      20000.0          20000.0  36 months     10.42   \n",
      "1                 7000.0       7000.0           7000.0  36 months      6.08   \n",
      "2                 6700.0       6700.0           6700.0  36 months     10.91   \n",
      "3                18000.0      18000.0          18000.0  36 months     12.62   \n",
      "4                 1000.0       1000.0           1000.0  36 months     22.91   \n",
      "...                  ...          ...              ...        ...       ...   \n",
      "551447            4375.0       4375.0           4375.0  36 months     14.08   \n",
      "551448           12000.0      12000.0          11975.0  36 months     10.42   \n",
      "551449           14000.0      14000.0          13975.0  36 months     13.59   \n",
      "551450               NaN          NaN              NaN       None       NaN   \n",
      "551451               NaN          NaN              NaN       None       NaN   \n",
      "\n",
      "        installment grade sub_grade  ... settlement_status settlement_date  \\\n",
      "0            649.30     B        B3  ...              None            None   \n",
      "1            213.21     A        A2  ...              None            None   \n",
      "2            219.07     B        B4  ...              None            None   \n",
      "3            603.21     C        C1  ...              None            None   \n",
      "4             38.67     E        E1  ...              None            None   \n",
      "...             ...   ...       ...  ...               ...             ...   \n",
      "551447       149.70     C        C3  ...              None            None   \n",
      "551448       389.58     B        B3  ...              None            None   \n",
      "551449       475.71     C        C2  ...              None            None   \n",
      "551450          NaN  None      None  ...              None            None   \n",
      "551451          NaN  None      None  ...              None            None   \n",
      "\n",
      "       settlement_amount settlement_percentage settlement_term Quarter  Year  \\\n",
      "0                    NaN                   NaN             NaN      Q4  2017   \n",
      "1                    NaN                   NaN             NaN      Q4  2017   \n",
      "2                    NaN                   NaN             NaN      Q4  2017   \n",
      "3                    NaN                   NaN             NaN      Q4  2017   \n",
      "4                    NaN                   NaN             NaN      Q4  2017   \n",
      "...                  ...                   ...             ...     ...   ...   \n",
      "551447               NaN                   NaN             NaN      Q1  2018   \n",
      "551448               NaN                   NaN             NaN      Q1  2018   \n",
      "551449               NaN                   NaN             NaN      Q1  2018   \n",
      "551450               NaN                   NaN             NaN      Q1  2018   \n",
      "551451               NaN                   NaN             NaN      Q1  2018   \n",
      "\n",
      "       Application_status Risk_Score Credit_History  \n",
      "0                Approved        780          163.0  \n",
      "1                Approved        790          152.0  \n",
      "2                Approved        780          365.0  \n",
      "3                Approved        750          317.0  \n",
      "4                Approved        770          190.0  \n",
      "...                   ...        ...            ...  \n",
      "551447           Approved        750          354.0  \n",
      "551448           Approved        760          303.0  \n",
      "551449           Approved        780          193.0  \n",
      "551450           Approved        610            NaN  \n",
      "551451           Approved        610            NaN  \n",
      "\n",
      "[551452 rows x 150 columns]\n"
     ]
    }
   ],
   "source": [
    "print(df)"
   ]
  },
  {
   "cell_type": "code",
   "execution_count": 172,
   "id": "58381249",
   "metadata": {},
   "outputs": [
    {
     "name": "stdout",
     "output_type": "stream",
     "text": [
      "0         20000.0\n",
      "1          7000.0\n",
      "2          6700.0\n",
      "3         18000.0\n",
      "4          1000.0\n",
      "           ...   \n",
      "551447     4375.0\n",
      "551448    12000.0\n",
      "551449    14000.0\n",
      "551450        NaN\n",
      "551451        NaN\n",
      "Name: Amount Requested, Length: 551452, dtype: float64\n"
     ]
    }
   ],
   "source": [
    "print(df['Amount Requested'])"
   ]
  },
  {
   "cell_type": "code",
   "execution_count": 173,
   "id": "e5d673bf",
   "metadata": {},
   "outputs": [
    {
     "data": {
      "text/plain": [
       "True"
      ]
     },
     "execution_count": 173,
     "metadata": {},
     "output_type": "execute_result"
    }
   ],
   "source": [
    "df['Amount Requested'].isnull().any()"
   ]
  },
  {
   "cell_type": "code",
   "execution_count": 174,
   "id": "feb229a5",
   "metadata": {},
   "outputs": [
    {
     "name": "stdout",
     "output_type": "stream",
     "text": [
      "                                                      id member_id  \\\n",
      "115904  Total amount funded in policy code 1: 1817354125      None   \n",
      "115905   Total amount funded in policy code 2: 592843163      None   \n",
      "260618  Total amount funded in policy code 1: 1437969475      None   \n",
      "260619   Total amount funded in policy code 2: 519691874      None   \n",
      "366071  Total amount funded in policy code 1: 1538432075      None   \n",
      "366072   Total amount funded in policy code 2: 603225638      None   \n",
      "488774  Total amount funded in policy code 1: 1791201400      None   \n",
      "488775   Total amount funded in policy code 2: 640990301      None   \n",
      "551450  Total amount funded in policy code 1: 1741781700      None   \n",
      "551451   Total amount funded in policy code 2: 539397275      None   \n",
      "\n",
      "        Amount Requested  funded_amnt  funded_amnt_inv  term  int_rate  \\\n",
      "115904               NaN          NaN              NaN  None       NaN   \n",
      "115905               NaN          NaN              NaN  None       NaN   \n",
      "260618               NaN          NaN              NaN  None       NaN   \n",
      "260619               NaN          NaN              NaN  None       NaN   \n",
      "366071               NaN          NaN              NaN  None       NaN   \n",
      "366072               NaN          NaN              NaN  None       NaN   \n",
      "488774               NaN          NaN              NaN  None       NaN   \n",
      "488775               NaN          NaN              NaN  None       NaN   \n",
      "551450               NaN          NaN              NaN  None       NaN   \n",
      "551451               NaN          NaN              NaN  None       NaN   \n",
      "\n",
      "        installment grade sub_grade  ... settlement_status settlement_date  \\\n",
      "115904          NaN  None      None  ...              None            None   \n",
      "115905          NaN  None      None  ...              None            None   \n",
      "260618          NaN  None      None  ...              None            None   \n",
      "260619          NaN  None      None  ...              None            None   \n",
      "366071          NaN  None      None  ...              None            None   \n",
      "366072          NaN  None      None  ...              None            None   \n",
      "488774          NaN  None      None  ...              None            None   \n",
      "488775          NaN  None      None  ...              None            None   \n",
      "551450          NaN  None      None  ...              None            None   \n",
      "551451          NaN  None      None  ...              None            None   \n",
      "\n",
      "       settlement_amount settlement_percentage settlement_term Quarter  Year  \\\n",
      "115904               NaN                   NaN             NaN      Q4  2017   \n",
      "115905               NaN                   NaN             NaN      Q4  2017   \n",
      "260618               NaN                   NaN             NaN      Q1  2017   \n",
      "260619               NaN                   NaN             NaN      Q1  2017   \n",
      "366071               NaN                   NaN             NaN      Q2  2017   \n",
      "366072               NaN                   NaN             NaN      Q2  2017   \n",
      "488774               NaN                   NaN             NaN      Q3  2017   \n",
      "488775               NaN                   NaN             NaN      Q3  2017   \n",
      "551450               NaN                   NaN             NaN      Q1  2018   \n",
      "551451               NaN                   NaN             NaN      Q1  2018   \n",
      "\n",
      "       Application_status Risk_Score Credit_History  \n",
      "115904           Approved        610            NaN  \n",
      "115905           Approved        610            NaN  \n",
      "260618           Approved        610            NaN  \n",
      "260619           Approved        610            NaN  \n",
      "366071           Approved        610            NaN  \n",
      "366072           Approved        610            NaN  \n",
      "488774           Approved        610            NaN  \n",
      "488775           Approved        610            NaN  \n",
      "551450           Approved        610            NaN  \n",
      "551451           Approved        610            NaN  \n",
      "\n",
      "[10 rows x 150 columns]\n"
     ]
    }
   ],
   "source": [
    "column_name='Amount Requested'\n",
    "null_rows = df.loc[df[column_name].isnull()]\n",
    "print(null_rows)\n",
    "\n",
    "\n",
    "\n"
   ]
  },
  {
   "cell_type": "code",
   "execution_count": 175,
   "id": "b57941b7",
   "metadata": {},
   "outputs": [],
   "source": [
    "column_name = 'Amount Requested'\n",
    "\n",
    "# Delete rows with null values in the specified column\n",
    "df = df.dropna(subset=[column_name])"
   ]
  },
  {
   "cell_type": "code",
   "execution_count": 176,
   "id": "78783949",
   "metadata": {},
   "outputs": [
    {
     "name": "stdout",
     "output_type": "stream",
     "text": [
      "id                         0\n",
      "member_id                  0\n",
      "Amount Requested      551442\n",
      "funded_amnt           551442\n",
      "funded_amnt_inv       551442\n",
      "                       ...  \n",
      "Quarter               551442\n",
      "Year                  551442\n",
      "Application_status    551442\n",
      "Risk_Score            551442\n",
      "Credit_History        551442\n",
      "Length: 150, dtype: int64\n"
     ]
    }
   ],
   "source": [
    "print(df.count())"
   ]
  },
  {
   "cell_type": "code",
   "execution_count": 177,
   "id": "e13033d3",
   "metadata": {},
   "outputs": [
    {
     "data": {
      "text/plain": [
       "False"
      ]
     },
     "execution_count": 177,
     "metadata": {},
     "output_type": "execute_result"
    }
   ],
   "source": [
    "df['Application_status'].isnull().any()"
   ]
  },
  {
   "cell_type": "code",
   "execution_count": 178,
   "id": "026da60f",
   "metadata": {},
   "outputs": [
    {
     "data": {
      "text/plain": [
       "True"
      ]
     },
     "execution_count": 178,
     "metadata": {},
     "output_type": "execute_result"
    }
   ],
   "source": [
    "df['Debt-To-Income Ratio'].isnull().any()"
   ]
  },
  {
   "cell_type": "code",
   "execution_count": 179,
   "id": "b830b016",
   "metadata": {},
   "outputs": [
    {
     "name": "stdout",
     "output_type": "stream",
     "text": [
      "          id member_id  Amount Requested  funded_amnt  funded_amnt_inv  \\\n",
      "421     None      None           40000.0      40000.0          40000.0   \n",
      "1325    None      None           24000.0      24000.0          24000.0   \n",
      "1511    None      None            4200.0       4200.0           4200.0   \n",
      "2035    None      None           26000.0      26000.0          26000.0   \n",
      "2250    None      None            7000.0       7000.0           7000.0   \n",
      "...      ...       ...               ...          ...              ...   \n",
      "547565  None      None            6000.0       6000.0           6000.0   \n",
      "548650  None      None           10000.0      10000.0          10000.0   \n",
      "548800  None      None           10000.0      10000.0          10000.0   \n",
      "550823  None      None           28000.0      28000.0          28000.0   \n",
      "551322  None      None           24000.0      24000.0          23975.0   \n",
      "\n",
      "             term  int_rate  installment grade sub_grade  ...  \\\n",
      "421     36 months     14.08      1368.66     C        C3  ...   \n",
      "1325    36 months     12.62       804.27     C        C1  ...   \n",
      "1511    36 months     12.62       140.75     C        C1  ...   \n",
      "2035    60 months     26.30       783.08     E        E5  ...   \n",
      "2250    36 months     10.42       227.26     B        B3  ...   \n",
      "...           ...       ...          ...   ...       ...  ...   \n",
      "547565  36 months      9.44       192.03     B        B1  ...   \n",
      "548650  36 months      7.97       313.23     A        A5  ...   \n",
      "548800  60 months     13.59       230.57     C        C2  ...   \n",
      "550823  60 months     14.08       652.68     C        C3  ...   \n",
      "551322  36 months     10.42       779.16     B        B3  ...   \n",
      "\n",
      "       settlement_status settlement_date settlement_amount  \\\n",
      "421                 None            None               NaN   \n",
      "1325                None            None               NaN   \n",
      "1511                None            None               NaN   \n",
      "2035                None            None               NaN   \n",
      "2250                None            None               NaN   \n",
      "...                  ...             ...               ...   \n",
      "547565              None            None               NaN   \n",
      "548650              None            None               NaN   \n",
      "548800              None            None               NaN   \n",
      "550823              None            None               NaN   \n",
      "551322              None            None               NaN   \n",
      "\n",
      "       settlement_percentage settlement_term Quarter  Year Application_status  \\\n",
      "421                      NaN             NaN      Q4  2017           Approved   \n",
      "1325                     NaN             NaN      Q4  2017           Approved   \n",
      "1511                     NaN             NaN      Q4  2017           Approved   \n",
      "2035                     NaN             NaN      Q4  2017           Approved   \n",
      "2250                     NaN             NaN      Q4  2017           Approved   \n",
      "...                      ...             ...     ...   ...                ...   \n",
      "547565                   NaN             NaN      Q1  2018           Approved   \n",
      "548650                   NaN             NaN      Q1  2018           Approved   \n",
      "548800                   NaN             NaN      Q1  2018           Approved   \n",
      "550823                   NaN             NaN      Q1  2018           Approved   \n",
      "551322                   NaN             NaN      Q1  2018           Approved   \n",
      "\n",
      "       Risk_Score Credit_History  \n",
      "421           710          186.0  \n",
      "1325          670          228.0  \n",
      "1511          750          289.0  \n",
      "2035          780          267.0  \n",
      "2250          780          136.0  \n",
      "...           ...            ...  \n",
      "547565        780          150.0  \n",
      "548650        780          203.0  \n",
      "548800        800          115.0  \n",
      "550823        720          255.0  \n",
      "551322        780          134.0  \n",
      "\n",
      "[776 rows x 150 columns]\n"
     ]
    }
   ],
   "source": [
    "column_name='Debt-To-Income Ratio'\n",
    "\n",
    "null_rows = df.loc[df[column_name].isnull()]\n",
    "print(null_rows)"
   ]
  },
  {
   "cell_type": "code",
   "execution_count": 180,
   "id": "37e35033",
   "metadata": {},
   "outputs": [
    {
     "data": {
      "text/plain": [
       "False"
      ]
     },
     "execution_count": 180,
     "metadata": {},
     "output_type": "execute_result"
    }
   ],
   "source": [
    "df['Employment Length'].isnull().any()"
   ]
  },
  {
   "cell_type": "code",
   "execution_count": 181,
   "id": "7b034796",
   "metadata": {},
   "outputs": [
    {
     "data": {
      "text/plain": [
       "False"
      ]
     },
     "execution_count": 181,
     "metadata": {},
     "output_type": "execute_result"
    }
   ],
   "source": [
    "df['Loan Title'].isnull().any()"
   ]
  },
  {
   "cell_type": "code",
   "execution_count": 182,
   "id": "2ca7fbe7",
   "metadata": {},
   "outputs": [],
   "source": [
    "column_name = 'Employment Length' \n",
    "value_to_find = 'n/a'\n",
    "# Print rows with the specified value in the specified column \n",
    "rows_with_value = df.loc[df[column_name] == value_to_find]"
   ]
  },
  {
   "cell_type": "code",
   "execution_count": 183,
   "id": "4a02aa84",
   "metadata": {},
   "outputs": [],
   "source": [
    "column_name1 = 'Loan Title' \n",
    "value_to_find1 = 'Other'\n",
    "# Print rows with the specified value in the specified column \n",
    "rows_with_value1 = df.loc[df[column_name1] == value_to_find1]"
   ]
  },
  {
   "cell_type": "code",
   "execution_count": 184,
   "id": "b3836e70",
   "metadata": {},
   "outputs": [
    {
     "name": "stdout",
     "output_type": "stream",
     "text": [
      "          id member_id  Amount Requested  funded_amnt  funded_amnt_inv  \\\n",
      "0       None      None           20000.0      20000.0          20000.0   \n",
      "1       None      None            7000.0       7000.0           7000.0   \n",
      "4       None      None            1000.0       1000.0           1000.0   \n",
      "12      None      None            4800.0       4800.0           4800.0   \n",
      "16      None      None           20000.0      20000.0          20000.0   \n",
      "...      ...       ...               ...          ...              ...   \n",
      "551371  None      None            8600.0       8600.0           8575.0   \n",
      "551399  None      None           35000.0      35000.0          34975.0   \n",
      "551407  None      None           15000.0      15000.0          14950.0   \n",
      "551409  None      None           11000.0      11000.0          10975.0   \n",
      "551423  None      None            1500.0       1500.0           1500.0   \n",
      "\n",
      "             term  int_rate  installment grade sub_grade  ...  \\\n",
      "0       36 months     10.42       649.30     B        B3  ...   \n",
      "1       36 months      6.08       213.21     A        A2  ...   \n",
      "4       36 months     22.91        38.67     E        E1  ...   \n",
      "12      36 months     16.02       168.81     C        C5  ...   \n",
      "16      36 months      9.44       640.10     B        B1  ...   \n",
      "...           ...       ...          ...   ...       ...  ...   \n",
      "551371  36 months     19.03       315.38     D        D3  ...   \n",
      "551399  60 months     10.42       750.91     B        B3  ...   \n",
      "551407  36 months     15.05       520.35     C        C4  ...   \n",
      "551409  36 months      7.97       344.55     A        A5  ...   \n",
      "551423  36 months     18.06        54.28     D        D2  ...   \n",
      "\n",
      "       settlement_status settlement_date settlement_amount  \\\n",
      "0                   None            None               NaN   \n",
      "1                   None            None               NaN   \n",
      "4                   None            None               NaN   \n",
      "12                  None            None               NaN   \n",
      "16                  None            None               NaN   \n",
      "...                  ...             ...               ...   \n",
      "551371              None            None               NaN   \n",
      "551399              None            None               NaN   \n",
      "551407              None            None               NaN   \n",
      "551409              None            None               NaN   \n",
      "551423              None            None               NaN   \n",
      "\n",
      "       settlement_percentage settlement_term Quarter  Year Application_status  \\\n",
      "0                        NaN             NaN      Q4  2017           Approved   \n",
      "1                        NaN             NaN      Q4  2017           Approved   \n",
      "4                        NaN             NaN      Q4  2017           Approved   \n",
      "12                       NaN             NaN      Q4  2017           Approved   \n",
      "16                       NaN             NaN      Q4  2017           Approved   \n",
      "...                      ...             ...     ...   ...                ...   \n",
      "551371                   NaN             NaN      Q1  2018           Approved   \n",
      "551399                   NaN             NaN      Q1  2018           Approved   \n",
      "551407                   NaN             NaN      Q1  2018           Approved   \n",
      "551409                   NaN             NaN      Q1  2018           Approved   \n",
      "551423                   NaN             NaN      Q1  2018           Approved   \n",
      "\n",
      "       Risk_Score Credit_History  \n",
      "0             780          163.0  \n",
      "1             790          152.0  \n",
      "4             770          190.0  \n",
      "12            770          208.0  \n",
      "16            720          341.0  \n",
      "...           ...            ...  \n",
      "551371        780          309.0  \n",
      "551399        720          394.0  \n",
      "551407        730          279.0  \n",
      "551409        720          401.0  \n",
      "551423        820          263.0  \n",
      "\n",
      "[42793 rows x 150 columns]\n"
     ]
    }
   ],
   "source": [
    "print(rows_with_value1)"
   ]
  },
  {
   "cell_type": "code",
   "execution_count": 187,
   "id": "4d31facf",
   "metadata": {},
   "outputs": [
    {
     "name": "stdout",
     "output_type": "stream",
     "text": [
      "        Amount Requested Application_status  Debt-To-Income Ratio  \\\n",
      "2                 6700.0           Approved                 20.00   \n",
      "3                18000.0           Approved                 25.09   \n",
      "5                12000.0           Approved                  4.90   \n",
      "6                10500.0           Approved                 35.57   \n",
      "7                 8000.0           Approved                 18.39   \n",
      "...                  ...                ...                   ...   \n",
      "551445           18000.0           Approved                 15.37   \n",
      "551446            6000.0           Approved                 28.93   \n",
      "551447            4375.0           Approved                 33.72   \n",
      "551448           12000.0           Approved                 11.10   \n",
      "551449           14000.0           Approved                  1.35   \n",
      "\n",
      "       Employment Length               Loan Title  Risk_Score  \n",
      "2                8 years       Debt consolidation         780  \n",
      "3                2 years       Debt consolidation         750  \n",
      "5              10+ years       Debt consolidation         690  \n",
      "6              10+ years  Credit card refinancing         700  \n",
      "7                7 years       Debt consolidation         770  \n",
      "...                  ...                      ...         ...  \n",
      "551445         10+ years       Debt consolidation         790  \n",
      "551446         10+ years       Debt consolidation         790  \n",
      "551447         10+ years         Home improvement         750  \n",
      "551448           8 years       Debt consolidation         760  \n",
      "551449           2 years            Car financing         780  \n",
      "\n",
      "[471075 rows x 6 columns]\n"
     ]
    }
   ],
   "source": [
    "# Specify the columns you want to extract\n",
    "wanted_columns = ['Amount Requested','Application_status','Debt-To-Income Ratio','Employment Length','Loan Title','Risk_Score']\n",
    "condition_column = 'Employment Length'\n",
    "condition_value ='n/a'\n",
    "# Extract specific columns and rows with non-null values\n",
    "df = df.loc[(df['Debt-To-Income Ratio'].notnull()) & (df[condition_column] != condition_value)&(df['Loan Title'] != 'Other'), wanted_columns]\n",
    "\n",
    "print(df)\n",
    "\n",
    "\n",
    "\n",
    "\n",
    "\n"
   ]
  },
  {
   "cell_type": "code",
   "execution_count": 188,
   "id": "756d6756",
   "metadata": {},
   "outputs": [
    {
     "data": {
      "text/plain": [
       "False"
      ]
     },
     "execution_count": 188,
     "metadata": {},
     "output_type": "execute_result"
    }
   ],
   "source": [
    "df['Risk_Score'].isnull().any()"
   ]
  },
  {
   "cell_type": "code",
   "execution_count": 189,
   "id": "1293be31",
   "metadata": {},
   "outputs": [],
   "source": [
    "df.to_csv('updatedapprov.csv', index=False)\n"
   ]
  },
  {
   "cell_type": "code",
   "execution_count": 5,
   "id": "d41eac8f",
   "metadata": {},
   "outputs": [],
   "source": [
    "sql1='select * from LENDINGAI_DB.LENDINGAI_SCH.REJECTEDLOANAPPLICATIONS;'"
   ]
  },
  {
   "cell_type": "code",
   "execution_count": 6,
   "id": "257e03ad",
   "metadata": {},
   "outputs": [],
   "source": [
    "res1=conn.cursor().execute(sql1).fetchall()"
   ]
  },
  {
   "cell_type": "code",
   "execution_count": 7,
   "id": "c5a09d2e",
   "metadata": {},
   "outputs": [
    {
     "name": "stderr",
     "output_type": "stream",
     "text": [
      "C:\\Users\\ashritha.kanukula\\AppData\\Local\\Temp\\ipykernel_11144\\2033228438.py:1: UserWarning: pandas only supports SQLAlchemy connectable (engine/connection) or database string URI or sqlite3 DBAPI2 connection. Other DBAPI2 objects are not tested. Please consider using SQLAlchemy.\n",
      "  df1=pd.read_sql(sql1,conn)\n"
     ]
    },
    {
     "name": "stdout",
     "output_type": "stream",
     "text": [
      "<class 'pandas.core.frame.DataFrame'>\n",
      "RangeIndex: 8947707 entries, 0 to 8947706\n",
      "Data columns (total 12 columns):\n",
      " #   Column                Dtype  \n",
      "---  ------                -----  \n",
      " 0   Application Date      object \n",
      " 1   Loan Title            object \n",
      " 2   Debt-To-Income Ratio  object \n",
      " 3   Zip Code              object \n",
      " 4   State                 object \n",
      " 5   Employment Length     object \n",
      " 6   Quarter               object \n",
      " 7   Label                 object \n",
      " 8   Amount Requested      float64\n",
      " 9   Risk_Score            float64\n",
      " 10  Policy Code           float64\n",
      " 11  Year                  int64  \n",
      "dtypes: float64(3), int64(1), object(8)\n",
      "memory usage: 819.2+ MB\n"
     ]
    }
   ],
   "source": [
    "df1=pd.read_sql(sql1,conn)\n",
    "df1.info()"
   ]
  },
  {
   "cell_type": "code",
   "execution_count": 8,
   "id": "96df6474",
   "metadata": {},
   "outputs": [
    {
     "name": "stdout",
     "output_type": "stream",
     "text": [
      "        Application Date          Loan Title Debt-To-Income Ratio Zip Code  \\\n",
      "0             2018-01-01  Debt consolidation               38.85%    488xx   \n",
      "1             2018-01-01       Car financing                   0%    773xx   \n",
      "2             2018-01-01            Business                0.55%    330xx   \n",
      "3             2018-01-01         Home buying                 8.4%    307xx   \n",
      "4             2018-01-01  Debt consolidation               24.22%    212xx   \n",
      "...                  ...                 ...                  ...      ...   \n",
      "8947702       2017-05-28  Debt consolidation               14.67%    711xx   \n",
      "8947703       2017-05-28            Business               11.72%    270xx   \n",
      "8947704       2017-05-28              moving                6.24%    276xx   \n",
      "8947705       2017-05-28  Debt consolidation                36.2%    334xx   \n",
      "8947706       2017-05-28  debt_consolidation               15.29%    531xx   \n",
      "\n",
      "        State Employment Length Quarter     Label  Amount Requested  \\\n",
      "0          MI          < 1 year      Q1  Rejected            6000.0   \n",
      "1          TX          < 1 year      Q1  Rejected            5000.0   \n",
      "2          FL          < 1 year      Q1  Rejected           10000.0   \n",
      "3          GA          < 1 year      Q1  Rejected           10000.0   \n",
      "4          MD          < 1 year      Q1  Rejected           15000.0   \n",
      "...       ...               ...     ...       ...               ...   \n",
      "8947702    LA          < 1 year      Q2  Rejected           10000.0   \n",
      "8947703    NC          < 1 year      Q2  Rejected            5000.0   \n",
      "8947704    NC           5 years      Q2  Rejected            1000.0   \n",
      "8947705    FL          < 1 year      Q2  Rejected           20000.0   \n",
      "8947706    WI          < 1 year      Q2  Rejected            5000.0   \n",
      "\n",
      "         Risk_Score  Policy Code  Year  \n",
      "0             668.0          0.0  2018  \n",
      "1             514.0          0.0  2018  \n",
      "2             603.0          0.0  2018  \n",
      "3             666.0          0.0  2018  \n",
      "4             629.0          0.0  2018  \n",
      "...             ...          ...   ...  \n",
      "8947702       693.0          0.0  2017  \n",
      "8947703       631.0          0.0  2017  \n",
      "8947704         NaN          0.0  2017  \n",
      "8947705       627.0          0.0  2017  \n",
      "8947706         NaN          0.0  2017  \n",
      "\n",
      "[8947707 rows x 12 columns]\n"
     ]
    }
   ],
   "source": [
    "print(df1)"
   ]
  },
  {
   "cell_type": "code",
   "execution_count": 10,
   "id": "3793d85e",
   "metadata": {},
   "outputs": [
    {
     "data": {
      "text/plain": [
       "False"
      ]
     },
     "execution_count": 10,
     "metadata": {},
     "output_type": "execute_result"
    }
   ],
   "source": [
    "df1['Amount Requested'].isnull().any()"
   ]
  },
  {
   "cell_type": "code",
   "execution_count": 11,
   "id": "cd88c122",
   "metadata": {},
   "outputs": [
    {
     "data": {
      "text/plain": [
       "False"
      ]
     },
     "execution_count": 11,
     "metadata": {},
     "output_type": "execute_result"
    }
   ],
   "source": [
    "df1['Debt-To-Income Ratio'].isnull().any()"
   ]
  },
  {
   "cell_type": "code",
   "execution_count": 12,
   "id": "023c7b96",
   "metadata": {},
   "outputs": [
    {
     "data": {
      "text/plain": [
       "True"
      ]
     },
     "execution_count": 12,
     "metadata": {},
     "output_type": "execute_result"
    }
   ],
   "source": [
    "df1['Loan Title'].isnull().any()"
   ]
  },
  {
   "cell_type": "code",
   "execution_count": 13,
   "id": "c8a995bd",
   "metadata": {},
   "outputs": [
    {
     "data": {
      "text/plain": [
       "False"
      ]
     },
     "execution_count": 13,
     "metadata": {},
     "output_type": "execute_result"
    }
   ],
   "source": [
    "df1['Label'].isnull().any()"
   ]
  },
  {
   "cell_type": "code",
   "execution_count": 14,
   "id": "ba996215",
   "metadata": {},
   "outputs": [
    {
     "data": {
      "text/plain": [
       "False"
      ]
     },
     "execution_count": 14,
     "metadata": {},
     "output_type": "execute_result"
    }
   ],
   "source": [
    "df1['Employment Length'].isnull().any()"
   ]
  },
  {
   "cell_type": "code",
   "execution_count": 15,
   "id": "f4d83ce1",
   "metadata": {},
   "outputs": [
    {
     "name": "stdout",
     "output_type": "stream",
     "text": [
      "        Application Date          Loan Title Debt-To-Income Ratio Zip Code  \\\n",
      "0             2018-01-01  Debt consolidation                 0.39    488xx   \n",
      "1             2018-01-01       Car financing                 0.00    773xx   \n",
      "2             2018-01-01            Business                 0.01    330xx   \n",
      "3             2018-01-01         Home buying                 0.08    307xx   \n",
      "4             2018-01-01  Debt consolidation                 0.24    212xx   \n",
      "...                  ...                 ...                  ...      ...   \n",
      "8947702       2017-05-28  Debt consolidation                 0.15    711xx   \n",
      "8947703       2017-05-28            Business                 0.12    270xx   \n",
      "8947704       2017-05-28              moving                 0.06    276xx   \n",
      "8947705       2017-05-28  Debt consolidation                 0.36    334xx   \n",
      "8947706       2017-05-28  debt_consolidation                 0.15    531xx   \n",
      "\n",
      "        State Employment Length Quarter     Label  Amount Requested  \\\n",
      "0          MI          < 1 year      Q1  Rejected            6000.0   \n",
      "1          TX          < 1 year      Q1  Rejected            5000.0   \n",
      "2          FL          < 1 year      Q1  Rejected           10000.0   \n",
      "3          GA          < 1 year      Q1  Rejected           10000.0   \n",
      "4          MD          < 1 year      Q1  Rejected           15000.0   \n",
      "...       ...               ...     ...       ...               ...   \n",
      "8947702    LA          < 1 year      Q2  Rejected           10000.0   \n",
      "8947703    NC          < 1 year      Q2  Rejected            5000.0   \n",
      "8947704    NC           5 years      Q2  Rejected            1000.0   \n",
      "8947705    FL          < 1 year      Q2  Rejected           20000.0   \n",
      "8947706    WI          < 1 year      Q2  Rejected            5000.0   \n",
      "\n",
      "         Risk_Score  Policy Code  Year  \n",
      "0             668.0          0.0  2018  \n",
      "1             514.0          0.0  2018  \n",
      "2             603.0          0.0  2018  \n",
      "3             666.0          0.0  2018  \n",
      "4             629.0          0.0  2018  \n",
      "...             ...          ...   ...  \n",
      "8947702       693.0          0.0  2017  \n",
      "8947703       631.0          0.0  2017  \n",
      "8947704         NaN          0.0  2017  \n",
      "8947705       627.0          0.0  2017  \n",
      "8947706         NaN          0.0  2017  \n",
      "\n",
      "[8947707 rows x 12 columns]\n"
     ]
    }
   ],
   "source": [
    "def convert_to_numerical(value):\n",
    "    return float(value.strip('%')) / 100\n",
    "\n",
    "# Apply the conversion function to the DataFrame column\n",
    "df1['Debt-To-Income Ratio'] = df1['Debt-To-Income Ratio'].apply(convert_to_numerical)\n",
    "\n",
    "# Format numerical values with precision (.2f)\n",
    "df1['Debt-To-Income Ratio'] = df1['Debt-To-Income Ratio'].apply(lambda x: f'{x:.2f}')\n",
    "\n",
    "# Display the updated DataFrame\n",
    "print(df1)\n"
   ]
  },
  {
   "cell_type": "code",
   "execution_count": 16,
   "id": "dd570491",
   "metadata": {},
   "outputs": [],
   "source": [
    "df1.rename(columns={'Label': 'Application_status'}, inplace=True)"
   ]
  },
  {
   "cell_type": "code",
   "execution_count": 17,
   "id": "7d30cee1",
   "metadata": {},
   "outputs": [
    {
     "name": "stdout",
     "output_type": "stream",
     "text": [
      "        Application Date          Loan Title Debt-To-Income Ratio Zip Code  \\\n",
      "0             2018-01-01  Debt consolidation                 0.39    488xx   \n",
      "1             2018-01-01       Car financing                 0.00    773xx   \n",
      "2             2018-01-01            Business                 0.01    330xx   \n",
      "3             2018-01-01         Home buying                 0.08    307xx   \n",
      "4             2018-01-01  Debt consolidation                 0.24    212xx   \n",
      "...                  ...                 ...                  ...      ...   \n",
      "8947702       2017-05-28  Debt consolidation                 0.15    711xx   \n",
      "8947703       2017-05-28            Business                 0.12    270xx   \n",
      "8947704       2017-05-28              moving                 0.06    276xx   \n",
      "8947705       2017-05-28  Debt consolidation                 0.36    334xx   \n",
      "8947706       2017-05-28  debt_consolidation                 0.15    531xx   \n",
      "\n",
      "        State Employment Length Quarter Application_status  Amount Requested  \\\n",
      "0          MI          < 1 year      Q1           Rejected            6000.0   \n",
      "1          TX          < 1 year      Q1           Rejected            5000.0   \n",
      "2          FL          < 1 year      Q1           Rejected           10000.0   \n",
      "3          GA          < 1 year      Q1           Rejected           10000.0   \n",
      "4          MD          < 1 year      Q1           Rejected           15000.0   \n",
      "...       ...               ...     ...                ...               ...   \n",
      "8947702    LA          < 1 year      Q2           Rejected           10000.0   \n",
      "8947703    NC          < 1 year      Q2           Rejected            5000.0   \n",
      "8947704    NC           5 years      Q2           Rejected            1000.0   \n",
      "8947705    FL          < 1 year      Q2           Rejected           20000.0   \n",
      "8947706    WI          < 1 year      Q2           Rejected            5000.0   \n",
      "\n",
      "         Risk_Score  Policy Code  Year  \n",
      "0             668.0          0.0  2018  \n",
      "1             514.0          0.0  2018  \n",
      "2             603.0          0.0  2018  \n",
      "3             666.0          0.0  2018  \n",
      "4             629.0          0.0  2018  \n",
      "...             ...          ...   ...  \n",
      "8947702       693.0          0.0  2017  \n",
      "8947703       631.0          0.0  2017  \n",
      "8947704         NaN          0.0  2017  \n",
      "8947705       627.0          0.0  2017  \n",
      "8947706         NaN          0.0  2017  \n",
      "\n",
      "[8947707 rows x 12 columns]\n"
     ]
    }
   ],
   "source": [
    "print(df1)"
   ]
  },
  {
   "cell_type": "code",
   "execution_count": 18,
   "id": "81fa78b7",
   "metadata": {},
   "outputs": [
    {
     "name": "stdout",
     "output_type": "stream",
     "text": [
      "        Application Date          Loan Title Debt-To-Income Ratio Zip Code  \\\n",
      "0             2018-01-01  Debt consolidation                 0.39    488xx   \n",
      "1             2018-01-01       Car financing                 0.00    773xx   \n",
      "2             2018-01-01            Business                 0.01    330xx   \n",
      "3             2018-01-01         Home buying                 0.08    307xx   \n",
      "4             2018-01-01  Debt consolidation                 0.24    212xx   \n",
      "...                  ...                 ...                  ...      ...   \n",
      "8947702       2017-05-28  Debt consolidation                 0.15    711xx   \n",
      "8947703       2017-05-28            Business                 0.12    270xx   \n",
      "8947704       2017-05-28              moving                 0.06    276xx   \n",
      "8947705       2017-05-28  Debt consolidation                 0.36    334xx   \n",
      "8947706       2017-05-28  debt_consolidation                 0.15    531xx   \n",
      "\n",
      "        State Employment Length Quarter Application_status  Amount Requested  \\\n",
      "0          MI          < 1 year      Q1           Rejected            6000.0   \n",
      "1          TX          < 1 year      Q1           Rejected            5000.0   \n",
      "2          FL          < 1 year      Q1           Rejected           10000.0   \n",
      "3          GA          < 1 year      Q1           Rejected           10000.0   \n",
      "4          MD          < 1 year      Q1           Rejected           15000.0   \n",
      "...       ...               ...     ...                ...               ...   \n",
      "8947702    LA          < 1 year      Q2           Rejected           10000.0   \n",
      "8947703    NC          < 1 year      Q2           Rejected            5000.0   \n",
      "8947704    NC           5 years      Q2           Rejected            1000.0   \n",
      "8947705    FL          < 1 year      Q2           Rejected           20000.0   \n",
      "8947706    WI          < 1 year      Q2           Rejected            5000.0   \n",
      "\n",
      "         Risk_Score  Policy Code  Year  \n",
      "0             668.0          0.0  2018  \n",
      "1             514.0          0.0  2018  \n",
      "2             603.0          0.0  2018  \n",
      "3             666.0          0.0  2018  \n",
      "4             629.0          0.0  2018  \n",
      "...             ...          ...   ...  \n",
      "8947702       693.0          0.0  2017  \n",
      "8947703       631.0          0.0  2017  \n",
      "8947704         NaN          0.0  2017  \n",
      "8947705       627.0          0.0  2017  \n",
      "8947706         NaN          0.0  2017  \n",
      "\n",
      "[8947707 rows x 12 columns]\n"
     ]
    }
   ],
   "source": [
    "title_mapping = {\n",
    "    'medical': 'medical expenses'\n",
    "}\n",
    "\n",
    "# Replace similar loan titles using the mapping\n",
    "df1['Loan Title'] = df1['Loan Title'].replace(title_mapping)\n",
    "\n",
    "# Display the updated DataFrame\n",
    "print(df1)"
   ]
  },
  {
   "cell_type": "code",
   "execution_count": 19,
   "id": "a0de22e5",
   "metadata": {},
   "outputs": [
    {
     "name": "stdout",
     "output_type": "stream",
     "text": [
      "Index(['Application Date', 'Loan Title', 'Debt-To-Income Ratio', 'Zip Code',\n",
      "       'State', 'Employment Length', 'Quarter', 'Application_status',\n",
      "       'Amount Requested', 'Risk_Score', 'Policy Code', 'Year'],\n",
      "      dtype='object')\n"
     ]
    }
   ],
   "source": [
    "column_names = df1.columns\n",
    "print(column_names)"
   ]
  },
  {
   "cell_type": "code",
   "execution_count": 22,
   "id": "9a5dfb6d",
   "metadata": {},
   "outputs": [],
   "source": [
    "column_name = 'Employment Length' \n",
    "value_to_find = 'n/a'\n",
    "# Print rows with the specified value in the specified column \n",
    "rows_with_value = df1.loc[df1[column_name] == value_to_find] "
   ]
  },
  {
   "cell_type": "code",
   "execution_count": 23,
   "id": "adb33755",
   "metadata": {},
   "outputs": [
    {
     "name": "stdout",
     "output_type": "stream",
     "text": [
      "        Application Date          Loan Title Debt-To-Income Ratio Zip Code  \\\n",
      "258           2018-01-01               Other                 0.07    712xx   \n",
      "435           2018-01-01  Debt consolidation                 0.06    437xx   \n",
      "528           2018-01-01         Home buying                 0.22    370xx   \n",
      "673           2018-01-01               Other                 0.25    532xx   \n",
      "757           2018-01-01               Other                 0.23    128xx   \n",
      "...                  ...                 ...                  ...      ...   \n",
      "8947561       2017-05-28    home_improvement                 0.35    630xx   \n",
      "8947591       2017-05-28         credit_card                 0.43    285xx   \n",
      "8947608       2017-05-28               other                 0.00    212xx   \n",
      "8947639       2017-05-28         credit_card                 0.24    786xx   \n",
      "8947662       2017-05-28               other                 0.00    612xx   \n",
      "\n",
      "        State Employment Length Quarter Application_status  Amount Requested  \\\n",
      "258        LA               n/a      Q1           Rejected            1500.0   \n",
      "435        OH               n/a      Q1           Rejected            7500.0   \n",
      "528        TN               n/a      Q1           Rejected            6000.0   \n",
      "673        WI               n/a      Q1           Rejected            2500.0   \n",
      "757        NY               n/a      Q1           Rejected           20000.0   \n",
      "...       ...               ...     ...                ...               ...   \n",
      "8947561    MO               n/a      Q2           Rejected           10000.0   \n",
      "8947591    NC               n/a      Q2           Rejected           35000.0   \n",
      "8947608    MD               n/a      Q2           Rejected            5000.0   \n",
      "8947639    TX               n/a      Q2           Rejected            6000.0   \n",
      "8947662    IL               n/a      Q2           Rejected            1000.0   \n",
      "\n",
      "         Risk_Score  Policy Code  Year  \n",
      "258           661.0          0.0  2018  \n",
      "435           574.0          0.0  2018  \n",
      "528           690.0          0.0  2018  \n",
      "673           589.0          0.0  2018  \n",
      "757           706.0          0.0  2018  \n",
      "...             ...          ...   ...  \n",
      "8947561         NaN          0.0  2017  \n",
      "8947591         NaN          0.0  2017  \n",
      "8947608         NaN          0.0  2017  \n",
      "8947639         NaN          0.0  2017  \n",
      "8947662       563.0          0.0  2017  \n",
      "\n",
      "[323400 rows x 12 columns]\n"
     ]
    }
   ],
   "source": [
    "print(rows_with_value)"
   ]
  },
  {
   "cell_type": "code",
   "execution_count": 24,
   "id": "8640e9ee",
   "metadata": {},
   "outputs": [],
   "source": [
    "column_name = 'Loan Title' \n",
    "value_to_find = 'other'\n",
    "# Print rows with the specified value in the specified column \n",
    "rows_with_value = df1.loc[df1[column_name] == value_to_find]"
   ]
  },
  {
   "cell_type": "code",
   "execution_count": 25,
   "id": "33f45aa2",
   "metadata": {},
   "outputs": [
    {
     "name": "stdout",
     "output_type": "stream",
     "text": [
      "        Application Date Loan Title Debt-To-Income Ratio Zip Code State  \\\n",
      "1131660       2018-02-24      other                 0.35    924xx    CA   \n",
      "1869849       2017-09-16      other                 0.18    317xx    GA   \n",
      "1869855       2017-09-16      other                 0.03    470xx    IN   \n",
      "1869872       2017-09-16      other                 0.42    925xx    CA   \n",
      "1869876       2017-09-16      other                 0.04    852xx    AZ   \n",
      "...                  ...        ...                  ...      ...   ...   \n",
      "8947662       2017-05-28      other                 0.00    612xx    IL   \n",
      "8947669       2017-05-28      other                 0.00    337xx    FL   \n",
      "8947671       2017-05-28      other                 0.14    480xx    MI   \n",
      "8947691       2017-05-28      other                 0.24    027xx    MA   \n",
      "8947694       2017-05-28      other                 0.08    432xx    OH   \n",
      "\n",
      "        Employment Length Quarter Application_status  Amount Requested  \\\n",
      "1131660          < 1 year      Q1           Rejected            3000.0   \n",
      "1869849           5 years      Q3           Rejected            1000.0   \n",
      "1869855          < 1 year      Q3           Rejected            4000.0   \n",
      "1869872          < 1 year      Q3           Rejected            4000.0   \n",
      "1869876          < 1 year      Q3           Rejected           10000.0   \n",
      "...                   ...     ...                ...               ...   \n",
      "8947662               n/a      Q2           Rejected            1000.0   \n",
      "8947669          < 1 year      Q2           Rejected           10000.0   \n",
      "8947671           5 years      Q2           Rejected            2500.0   \n",
      "8947691           5 years      Q2           Rejected            5000.0   \n",
      "8947694           3 years      Q2           Rejected           10000.0   \n",
      "\n",
      "         Risk_Score  Policy Code  Year  \n",
      "1131660         NaN          0.0  2018  \n",
      "1869849         NaN          0.0  2017  \n",
      "1869855         NaN          0.0  2017  \n",
      "1869872         NaN          0.0  2017  \n",
      "1869876         NaN          0.0  2017  \n",
      "...             ...          ...   ...  \n",
      "8947662       563.0          0.0  2017  \n",
      "8947669         NaN          0.0  2017  \n",
      "8947671         NaN          0.0  2017  \n",
      "8947691         NaN          0.0  2017  \n",
      "8947694         NaN          0.0  2017  \n",
      "\n",
      "[606028 rows x 12 columns]\n"
     ]
    }
   ],
   "source": [
    "print(rows_with_value)"
   ]
  },
  {
   "cell_type": "code",
   "execution_count": 26,
   "id": "23c49cb9",
   "metadata": {},
   "outputs": [],
   "source": [
    "column_name = 'Loan Title' \n",
    "value_to_find = 'Other'\n",
    "# Print rows with the specified value in the specified column \n",
    "rows_with_value = df1.loc[df1[column_name] == value_to_find]"
   ]
  },
  {
   "cell_type": "code",
   "execution_count": 27,
   "id": "715714c1",
   "metadata": {},
   "outputs": [
    {
     "name": "stdout",
     "output_type": "stream",
     "text": [
      "        Application Date Loan Title Debt-To-Income Ratio Zip Code State  \\\n",
      "6             2018-01-01      Other                 0.13    462xx    IN   \n",
      "7             2018-01-01      Other                 0.02    984xx    WA   \n",
      "10            2018-01-01      Other                 0.28    891xx    NV   \n",
      "11            2018-01-01      Other                 0.47    310xx    GA   \n",
      "19            2018-01-01      Other                 0.10    405xx    KY   \n",
      "...                  ...        ...                  ...      ...   ...   \n",
      "8947549       2017-05-28      Other                 1.00    745xx    OK   \n",
      "8947555       2017-05-28      Other                 0.00    331xx    FL   \n",
      "8947605       2017-05-28      Other                 1.00    300xx    GA   \n",
      "8947653       2017-05-28      Other                 0.18    221xx    VA   \n",
      "8947678       2017-05-28      Other                 0.25    240xx    VA   \n",
      "\n",
      "        Employment Length Quarter Application_status  Amount Requested  \\\n",
      "6                < 1 year      Q1           Rejected            2500.0   \n",
      "7                < 1 year      Q1           Rejected            1500.0   \n",
      "10               < 1 year      Q1           Rejected            1900.0   \n",
      "11               < 1 year      Q1           Rejected           21500.0   \n",
      "19               < 1 year      Q1           Rejected            3000.0   \n",
      "...                   ...     ...                ...               ...   \n",
      "8947549          < 1 year      Q2           Rejected           10000.0   \n",
      "8947555          < 1 year      Q2           Rejected            5000.0   \n",
      "8947605          < 1 year      Q2           Rejected            4000.0   \n",
      "8947653          < 1 year      Q2           Rejected            1000.0   \n",
      "8947678          < 1 year      Q2           Rejected            3000.0   \n",
      "\n",
      "         Risk_Score  Policy Code  Year  \n",
      "6             680.0          0.0  2018  \n",
      "7             690.0          0.0  2018  \n",
      "10            572.0          0.0  2018  \n",
      "11            723.0          0.0  2018  \n",
      "19            548.0          0.0  2018  \n",
      "...             ...          ...   ...  \n",
      "8947549         NaN          0.0  2017  \n",
      "8947555       561.0          0.0  2017  \n",
      "8947605         NaN          0.0  2017  \n",
      "8947653       544.0          0.0  2017  \n",
      "8947678       676.0          0.0  2017  \n",
      "\n",
      "[1004008 rows x 12 columns]\n"
     ]
    }
   ],
   "source": [
    "print(rows_with_value)"
   ]
  },
  {
   "cell_type": "code",
   "execution_count": 28,
   "id": "23ac46bf",
   "metadata": {},
   "outputs": [
    {
     "name": "stdout",
     "output_type": "stream",
     "text": [
      "Number of null values in 'Risk_Score': 4717663\n"
     ]
    }
   ],
   "source": [
    "column_name = 'Risk_Score'\n",
    "null_count = df1[column_name].isnull().sum()\n",
    "print(f\"Number of null values in '{column_name}': {null_count}\")"
   ]
  },
  {
   "cell_type": "code",
   "execution_count": 31,
   "id": "44d23036",
   "metadata": {},
   "outputs": [],
   "source": [
    "wanted_columns = ['Debt-To-Income Ratio', 'Employment Length','Loan Title','Application_status','Amount Requested','Risk_Score'] \n",
    "condition_column = 'Employment Length' \n",
    "condition_value = 'n/a'\n",
    "# Extract specific columns and specific rows with the condition \n",
    "df1= df1.loc[df1[condition_column] != condition_value, wanted_columns] \n",
    "df1= df1.loc[(df1['Loan Title'].notnull())&(df1['Risk_Score'].notnull())&(df1[condition_column] != condition_value)&(df1['Loan Title'] != 'other')&(df1['Loan Title'] != 'Other'), wanted_columns]"
   ]
  },
  {
   "cell_type": "code",
   "execution_count": 32,
   "id": "fd18980e",
   "metadata": {},
   "outputs": [
    {
     "name": "stdout",
     "output_type": "stream",
     "text": [
      "        Debt-To-Income Ratio Employment Length          Loan Title  \\\n",
      "0                       0.39          < 1 year  Debt consolidation   \n",
      "1                       0.00          < 1 year       Car financing   \n",
      "2                       0.01          < 1 year            Business   \n",
      "3                       0.08          < 1 year         Home buying   \n",
      "4                       0.24          < 1 year  Debt consolidation   \n",
      "...                      ...               ...                 ...   \n",
      "8947699                 0.06           4 years  debt_consolidation   \n",
      "8947701                 0.09          < 1 year  Debt consolidation   \n",
      "8947702                 0.15          < 1 year  Debt consolidation   \n",
      "8947703                 0.12          < 1 year            Business   \n",
      "8947705                 0.36          < 1 year  Debt consolidation   \n",
      "\n",
      "        Application_status  Amount Requested  Risk_Score  \n",
      "0                 Rejected            6000.0       668.0  \n",
      "1                 Rejected            5000.0       514.0  \n",
      "2                 Rejected           10000.0       603.0  \n",
      "3                 Rejected           10000.0       666.0  \n",
      "4                 Rejected           15000.0       629.0  \n",
      "...                    ...               ...         ...  \n",
      "8947699           Rejected            5000.0       609.0  \n",
      "8947701           Rejected           20000.0       519.0  \n",
      "8947702           Rejected           10000.0       693.0  \n",
      "8947703           Rejected            5000.0       631.0  \n",
      "8947705           Rejected           20000.0       627.0  \n",
      "\n",
      "[3475360 rows x 6 columns]\n"
     ]
    }
   ],
   "source": [
    "print(df1)"
   ]
  },
  {
   "cell_type": "code",
   "execution_count": 33,
   "id": "b88683fd",
   "metadata": {},
   "outputs": [
    {
     "data": {
      "text/plain": [
       "False"
      ]
     },
     "execution_count": 33,
     "metadata": {},
     "output_type": "execute_result"
    }
   ],
   "source": [
    "df1['Debt-To-Income Ratio'].isnull().any()"
   ]
  },
  {
   "cell_type": "code",
   "execution_count": 34,
   "id": "a8447ab4",
   "metadata": {},
   "outputs": [
    {
     "data": {
      "text/plain": [
       "False"
      ]
     },
     "execution_count": 34,
     "metadata": {},
     "output_type": "execute_result"
    }
   ],
   "source": [
    "df1['Risk_Score'].isnull().any()"
   ]
  },
  {
   "cell_type": "code",
   "execution_count": 35,
   "id": "f367a294",
   "metadata": {},
   "outputs": [],
   "source": [
    "df1.to_csv('rejected_before_stratified.csv', index=False)"
   ]
  },
  {
   "cell_type": "code",
   "execution_count": 36,
   "id": "c9ec3e53",
   "metadata": {},
   "outputs": [],
   "source": [
    "df2= pd.read_csv('rejected_before_stratified.csv')"
   ]
  },
  {
   "cell_type": "code",
   "execution_count": 37,
   "id": "591fd935",
   "metadata": {},
   "outputs": [
    {
     "data": {
      "text/html": [
       "<div>\n",
       "<style scoped>\n",
       "    .dataframe tbody tr th:only-of-type {\n",
       "        vertical-align: middle;\n",
       "    }\n",
       "\n",
       "    .dataframe tbody tr th {\n",
       "        vertical-align: top;\n",
       "    }\n",
       "\n",
       "    .dataframe thead th {\n",
       "        text-align: right;\n",
       "    }\n",
       "</style>\n",
       "<table border=\"1\" class=\"dataframe\">\n",
       "  <thead>\n",
       "    <tr style=\"text-align: right;\">\n",
       "      <th></th>\n",
       "      <th>Debt-To-Income Ratio</th>\n",
       "      <th>Employment Length</th>\n",
       "      <th>Loan Title</th>\n",
       "      <th>Application_status</th>\n",
       "      <th>Amount Requested</th>\n",
       "      <th>Risk_Score</th>\n",
       "    </tr>\n",
       "  </thead>\n",
       "  <tbody>\n",
       "    <tr>\n",
       "      <th>0</th>\n",
       "      <td>0.39</td>\n",
       "      <td>&lt; 1 year</td>\n",
       "      <td>Debt consolidation</td>\n",
       "      <td>Rejected</td>\n",
       "      <td>6000.0</td>\n",
       "      <td>668.0</td>\n",
       "    </tr>\n",
       "    <tr>\n",
       "      <th>1</th>\n",
       "      <td>0.00</td>\n",
       "      <td>&lt; 1 year</td>\n",
       "      <td>Car financing</td>\n",
       "      <td>Rejected</td>\n",
       "      <td>5000.0</td>\n",
       "      <td>514.0</td>\n",
       "    </tr>\n",
       "    <tr>\n",
       "      <th>2</th>\n",
       "      <td>0.01</td>\n",
       "      <td>&lt; 1 year</td>\n",
       "      <td>Business</td>\n",
       "      <td>Rejected</td>\n",
       "      <td>10000.0</td>\n",
       "      <td>603.0</td>\n",
       "    </tr>\n",
       "    <tr>\n",
       "      <th>3</th>\n",
       "      <td>0.08</td>\n",
       "      <td>&lt; 1 year</td>\n",
       "      <td>Home buying</td>\n",
       "      <td>Rejected</td>\n",
       "      <td>10000.0</td>\n",
       "      <td>666.0</td>\n",
       "    </tr>\n",
       "    <tr>\n",
       "      <th>4</th>\n",
       "      <td>0.24</td>\n",
       "      <td>&lt; 1 year</td>\n",
       "      <td>Debt consolidation</td>\n",
       "      <td>Rejected</td>\n",
       "      <td>15000.0</td>\n",
       "      <td>629.0</td>\n",
       "    </tr>\n",
       "  </tbody>\n",
       "</table>\n",
       "</div>"
      ],
      "text/plain": [
       "   Debt-To-Income Ratio Employment Length          Loan Title  \\\n",
       "0                  0.39          < 1 year  Debt consolidation   \n",
       "1                  0.00          < 1 year       Car financing   \n",
       "2                  0.01          < 1 year            Business   \n",
       "3                  0.08          < 1 year         Home buying   \n",
       "4                  0.24          < 1 year  Debt consolidation   \n",
       "\n",
       "  Application_status  Amount Requested  Risk_Score  \n",
       "0           Rejected            6000.0       668.0  \n",
       "1           Rejected            5000.0       514.0  \n",
       "2           Rejected           10000.0       603.0  \n",
       "3           Rejected           10000.0       666.0  \n",
       "4           Rejected           15000.0       629.0  "
      ]
     },
     "execution_count": 37,
     "metadata": {},
     "output_type": "execute_result"
    }
   ],
   "source": [
    "df2.head()"
   ]
  },
  {
   "cell_type": "code",
   "execution_count": 38,
   "id": "83e6a3f2",
   "metadata": {},
   "outputs": [],
   "source": [
    "#Apply stratified sampling to overcome class imbalance\n",
    "df2=df2.groupby('Application_status', group_keys=False).apply(lambda x: x.sample(frac=0.2))"
   ]
  },
  {
   "cell_type": "code",
   "execution_count": 39,
   "id": "4d51d012",
   "metadata": {},
   "outputs": [
    {
     "name": "stdout",
     "output_type": "stream",
     "text": [
      "         Debt-To-Income Ratio Employment Length               Loan Title  \\\n",
      "1571907                  0.12          < 1 year  Credit card refinancing   \n",
      "1287903                  0.06          < 1 year       Debt consolidation   \n",
      "2763860                  0.31          < 1 year       Debt consolidation   \n",
      "2455085                  0.01          < 1 year         Home improvement   \n",
      "3141142                  0.06          < 1 year                 Business   \n",
      "...                       ...               ...                      ...   \n",
      "2510489                  0.15          < 1 year         Home improvement   \n",
      "1375557                  0.04          < 1 year    Moving and relocation   \n",
      "3273084                  0.19          < 1 year            Car financing   \n",
      "1788300                  0.38          < 1 year  Credit card refinancing   \n",
      "707570                   0.10         10+ years  Credit card refinancing   \n",
      "\n",
      "        Application_status  Amount Requested  Risk_Score  \n",
      "1571907           Rejected           15000.0       644.0  \n",
      "1287903           Rejected           10000.0       541.0  \n",
      "2763860           Rejected            6000.0       605.0  \n",
      "2455085           Rejected            1000.0       501.0  \n",
      "3141142           Rejected            3000.0       553.0  \n",
      "...                    ...               ...         ...  \n",
      "2510489           Rejected           40000.0       646.0  \n",
      "1375557           Rejected            1000.0       549.0  \n",
      "3273084           Rejected           40000.0       656.0  \n",
      "1788300           Rejected           10000.0       648.0  \n",
      "707570            Rejected           10000.0       683.0  \n",
      "\n",
      "[695072 rows x 6 columns]\n"
     ]
    }
   ],
   "source": [
    "print(df2) "
   ]
  },
  {
   "cell_type": "code",
   "execution_count": 40,
   "id": "1dda0da0",
   "metadata": {},
   "outputs": [],
   "source": [
    "df2.to_csv('updatedreject.csv', index=False)"
   ]
  },
  {
   "cell_type": "code",
   "execution_count": 42,
   "id": "6e889c16",
   "metadata": {},
   "outputs": [],
   "source": [
    "import pandas as pd\n",
    "\n",
    " \n",
    "\n",
    "# Load the first dataset\n",
    "data1 = pd.read_csv('updatedapprov.csv')\n",
    "\n",
    " \n",
    "\n",
    "# Load the second dataset\n",
    "data2 = pd.read_csv('updatedreject.csv')\n",
    "\n",
    " \n",
    "\n",
    "# Concatenate the two datasets vertically\n",
    "merge_data = pd.concat([data1, data2], ignore_index=True)\n",
    "\n",
    " \n",
    "\n",
    "# Save the combined dataset to a new CSV file\n",
    "merge_data.to_csv('final_dataset.csv', index=False)"
   ]
  },
  {
   "cell_type": "code",
   "execution_count": 43,
   "id": "0ea405d3",
   "metadata": {},
   "outputs": [
    {
     "name": "stdout",
     "output_type": "stream",
     "text": [
      "         Amount Requested Application_status  Debt-To-Income Ratio  \\\n",
      "0                  6700.0           Approved                 20.00   \n",
      "1                 18000.0           Approved                 25.09   \n",
      "2                 12000.0           Approved                  4.90   \n",
      "3                 10500.0           Approved                 35.57   \n",
      "4                  8000.0           Approved                 18.39   \n",
      "...                   ...                ...                   ...   \n",
      "1166142           40000.0           Rejected                  0.15   \n",
      "1166143            1000.0           Rejected                  0.04   \n",
      "1166144           40000.0           Rejected                  0.19   \n",
      "1166145           10000.0           Rejected                  0.38   \n",
      "1166146           10000.0           Rejected                  0.10   \n",
      "\n",
      "        Employment Length               Loan Title  Risk_Score  \n",
      "0                 8 years       Debt consolidation       780.0  \n",
      "1                 2 years       Debt consolidation       750.0  \n",
      "2               10+ years       Debt consolidation       690.0  \n",
      "3               10+ years  Credit card refinancing       700.0  \n",
      "4                 7 years       Debt consolidation       770.0  \n",
      "...                   ...                      ...         ...  \n",
      "1166142          < 1 year         Home improvement       646.0  \n",
      "1166143          < 1 year    Moving and relocation       549.0  \n",
      "1166144          < 1 year            Car financing       656.0  \n",
      "1166145          < 1 year  Credit card refinancing       648.0  \n",
      "1166146         10+ years  Credit card refinancing       683.0  \n",
      "\n",
      "[1166147 rows x 6 columns]\n"
     ]
    }
   ],
   "source": [
    "print(merge_data)"
   ]
  },
  {
   "cell_type": "code",
   "execution_count": 44,
   "id": "8da87299",
   "metadata": {},
   "outputs": [],
   "source": [
    "#logistic regression\n",
    "import numpy as np\n",
    "from sklearn.model_selection import train_test_split\n",
    "from sklearn.linear_model import LogisticRegression\n",
    "from sklearn.metrics import accuracy_score\n",
    "from sklearn.metrics import accuracy_score, classification_report\n",
    "from sklearn.preprocessing import LabelEncoder"
   ]
  },
  {
   "cell_type": "code",
   "execution_count": 45,
   "id": "1cf68e90",
   "metadata": {},
   "outputs": [],
   "source": [
    "data = pd.read_csv('final_dataset.csv')"
   ]
  },
  {
   "cell_type": "code",
   "execution_count": 46,
   "id": "45c21769",
   "metadata": {},
   "outputs": [],
   "source": [
    "X = data.drop('Application_status', axis=1)  # Replace 'target_column' with the actual target column name\n",
    "y = data['Application_status']"
   ]
  },
  {
   "cell_type": "code",
   "execution_count": 47,
   "id": "3ca9ec3f",
   "metadata": {},
   "outputs": [],
   "source": [
    "model = LogisticRegression()"
   ]
  },
  {
   "cell_type": "code",
   "execution_count": 48,
   "id": "4f55458d",
   "metadata": {},
   "outputs": [],
   "source": [
    "label_encoder = LabelEncoder()\n",
    "X['Employment Length'] = label_encoder.fit_transform(X['Employment Length'])\n",
    "X['Loan Title'] = label_encoder.fit_transform(X['Loan Title'])"
   ]
  },
  {
   "cell_type": "code",
   "execution_count": 49,
   "id": "5693f841",
   "metadata": {},
   "outputs": [],
   "source": [
    "X_train, X_test, y_train, y_test = train_test_split(X, y, test_size=0.2, random_state=42)"
   ]
  },
  {
   "cell_type": "code",
   "execution_count": 50,
   "id": "0241968b",
   "metadata": {},
   "outputs": [
    {
     "data": {
      "text/html": [
       "<style>#sk-container-id-1 {color: black;}#sk-container-id-1 pre{padding: 0;}#sk-container-id-1 div.sk-toggleable {background-color: white;}#sk-container-id-1 label.sk-toggleable__label {cursor: pointer;display: block;width: 100%;margin-bottom: 0;padding: 0.3em;box-sizing: border-box;text-align: center;}#sk-container-id-1 label.sk-toggleable__label-arrow:before {content: \"▸\";float: left;margin-right: 0.25em;color: #696969;}#sk-container-id-1 label.sk-toggleable__label-arrow:hover:before {color: black;}#sk-container-id-1 div.sk-estimator:hover label.sk-toggleable__label-arrow:before {color: black;}#sk-container-id-1 div.sk-toggleable__content {max-height: 0;max-width: 0;overflow: hidden;text-align: left;background-color: #f0f8ff;}#sk-container-id-1 div.sk-toggleable__content pre {margin: 0.2em;color: black;border-radius: 0.25em;background-color: #f0f8ff;}#sk-container-id-1 input.sk-toggleable__control:checked~div.sk-toggleable__content {max-height: 200px;max-width: 100%;overflow: auto;}#sk-container-id-1 input.sk-toggleable__control:checked~label.sk-toggleable__label-arrow:before {content: \"▾\";}#sk-container-id-1 div.sk-estimator input.sk-toggleable__control:checked~label.sk-toggleable__label {background-color: #d4ebff;}#sk-container-id-1 div.sk-label input.sk-toggleable__control:checked~label.sk-toggleable__label {background-color: #d4ebff;}#sk-container-id-1 input.sk-hidden--visually {border: 0;clip: rect(1px 1px 1px 1px);clip: rect(1px, 1px, 1px, 1px);height: 1px;margin: -1px;overflow: hidden;padding: 0;position: absolute;width: 1px;}#sk-container-id-1 div.sk-estimator {font-family: monospace;background-color: #f0f8ff;border: 1px dotted black;border-radius: 0.25em;box-sizing: border-box;margin-bottom: 0.5em;}#sk-container-id-1 div.sk-estimator:hover {background-color: #d4ebff;}#sk-container-id-1 div.sk-parallel-item::after {content: \"\";width: 100%;border-bottom: 1px solid gray;flex-grow: 1;}#sk-container-id-1 div.sk-label:hover label.sk-toggleable__label {background-color: #d4ebff;}#sk-container-id-1 div.sk-serial::before {content: \"\";position: absolute;border-left: 1px solid gray;box-sizing: border-box;top: 0;bottom: 0;left: 50%;z-index: 0;}#sk-container-id-1 div.sk-serial {display: flex;flex-direction: column;align-items: center;background-color: white;padding-right: 0.2em;padding-left: 0.2em;position: relative;}#sk-container-id-1 div.sk-item {position: relative;z-index: 1;}#sk-container-id-1 div.sk-parallel {display: flex;align-items: stretch;justify-content: center;background-color: white;position: relative;}#sk-container-id-1 div.sk-item::before, #sk-container-id-1 div.sk-parallel-item::before {content: \"\";position: absolute;border-left: 1px solid gray;box-sizing: border-box;top: 0;bottom: 0;left: 50%;z-index: -1;}#sk-container-id-1 div.sk-parallel-item {display: flex;flex-direction: column;z-index: 1;position: relative;background-color: white;}#sk-container-id-1 div.sk-parallel-item:first-child::after {align-self: flex-end;width: 50%;}#sk-container-id-1 div.sk-parallel-item:last-child::after {align-self: flex-start;width: 50%;}#sk-container-id-1 div.sk-parallel-item:only-child::after {width: 0;}#sk-container-id-1 div.sk-dashed-wrapped {border: 1px dashed gray;margin: 0 0.4em 0.5em 0.4em;box-sizing: border-box;padding-bottom: 0.4em;background-color: white;}#sk-container-id-1 div.sk-label label {font-family: monospace;font-weight: bold;display: inline-block;line-height: 1.2em;}#sk-container-id-1 div.sk-label-container {text-align: center;}#sk-container-id-1 div.sk-container {/* jupyter's `normalize.less` sets `[hidden] { display: none; }` but bootstrap.min.css set `[hidden] { display: none !important; }` so we also need the `!important` here to be able to override the default hidden behavior on the sphinx rendered scikit-learn.org. See: https://github.com/scikit-learn/scikit-learn/issues/21755 */display: inline-block !important;position: relative;}#sk-container-id-1 div.sk-text-repr-fallback {display: none;}</style><div id=\"sk-container-id-1\" class=\"sk-top-container\"><div class=\"sk-text-repr-fallback\"><pre>LogisticRegression()</pre><b>In a Jupyter environment, please rerun this cell to show the HTML representation or trust the notebook. <br />On GitHub, the HTML representation is unable to render, please try loading this page with nbviewer.org.</b></div><div class=\"sk-container\" hidden><div class=\"sk-item\"><div class=\"sk-estimator sk-toggleable\"><input class=\"sk-toggleable__control sk-hidden--visually\" id=\"sk-estimator-id-1\" type=\"checkbox\" checked><label for=\"sk-estimator-id-1\" class=\"sk-toggleable__label sk-toggleable__label-arrow\">LogisticRegression</label><div class=\"sk-toggleable__content\"><pre>LogisticRegression()</pre></div></div></div></div></div>"
      ],
      "text/plain": [
       "LogisticRegression()"
      ]
     },
     "execution_count": 50,
     "metadata": {},
     "output_type": "execute_result"
    }
   ],
   "source": [
    "# Train the model on the training data\n",
    "model.fit(X_train, y_train)"
   ]
  },
  {
   "cell_type": "code",
   "execution_count": 51,
   "id": "d3d6e2f7",
   "metadata": {},
   "outputs": [],
   "source": [
    "# Make predictions on the test data\n",
    "y_pred = model.predict(X_test)"
   ]
  },
  {
   "cell_type": "code",
   "execution_count": 52,
   "id": "abad4727",
   "metadata": {},
   "outputs": [
    {
     "name": "stdout",
     "output_type": "stream",
     "text": [
      "Accuracy: 0.96\n"
     ]
    }
   ],
   "source": [
    "#To find Accuracy\n",
    "accuracy = accuracy_score(y_test, y_pred)\n",
    "print(f\"Accuracy: {accuracy:.2f}\")"
   ]
  },
  {
   "cell_type": "code",
   "execution_count": 53,
   "id": "242d431a",
   "metadata": {},
   "outputs": [
    {
     "name": "stdout",
     "output_type": "stream",
     "text": [
      "Classification Report:\n",
      "              precision    recall  f1-score   support\n",
      "\n",
      "    Approved       0.95      0.94      0.94     94515\n",
      "    Rejected       0.96      0.96      0.96    138715\n",
      "\n",
      "    accuracy                           0.96    233230\n",
      "   macro avg       0.95      0.95      0.95    233230\n",
      "weighted avg       0.96      0.96      0.96    233230\n",
      "\n"
     ]
    }
   ],
   "source": [
    "# Display classification report\n",
    "class_report = classification_report(y_test, y_pred)\n",
    "print(\"Classification Report:\")\n",
    "print(class_report)"
   ]
  },
  {
   "cell_type": "code",
   "execution_count": null,
   "id": "0956a969",
   "metadata": {},
   "outputs": [],
   "source": []
  }
 ],
 "metadata": {
  "kernelspec": {
   "display_name": "Python 3 (ipykernel)",
   "language": "python",
   "name": "python3"
  },
  "language_info": {
   "codemirror_mode": {
    "name": "ipython",
    "version": 3
   },
   "file_extension": ".py",
   "mimetype": "text/x-python",
   "name": "python",
   "nbconvert_exporter": "python",
   "pygments_lexer": "ipython3",
   "version": "3.11.4"
  }
 },
 "nbformat": 4,
 "nbformat_minor": 5
}
